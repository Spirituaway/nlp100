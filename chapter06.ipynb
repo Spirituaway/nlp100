{
 "cells": [
  {
   "cell_type": "markdown",
   "metadata": {
    "id": "FbfoSfvJrBXY"
   },
   "source": [
    "# **第6章: 機械学習**"
   ]
  },
  {
   "cell_type": "markdown",
   "metadata": {
    "id": "h_AszejYq34I"
   },
   "source": [
    "本章では，Fabio Gasparetti氏が公開している[News Aggregator Data Set](https://archive.ics.uci.edu/ml/datasets/News+Aggregator)を用い，ニュース記事の見出しを「ビジネス」「科学技術」「エンターテイメント」「健康」のカテゴリに分類するタスク（カテゴリ分類）に取り組む．"
   ]
  },
  {
   "cell_type": "markdown",
   "metadata": {
    "id": "6bH3yqz6NTd4"
   },
   "source": [
    "## 50 データの入手・整形\n",
    "[News Aggregator Data Set](https://archive.ics.uci.edu/ml/datasets/News+Aggregator) をダウンロードし、以下の要領で学習データ（`train.txt`），検証データ（`valid.txt`），評価データ（`test.txt`）を作成せよ．\n",
    "\n",
    "1. ダウンロードしたzipファイルを解凍し，readme.txtの説明を読む．\n",
    "1. 情報源（publisher）が”Reuters”, “Huffington Post”, “Businessweek”, “Contactmusic.com”, “Daily Mail”の事例（記事）のみを抽出する．\n",
    "1. 抽出された事例をランダムに並び替える．\n",
    "1. 抽出された事例の80%を学習データ，残りの10%ずつを検証データと評価データに分割し，それぞれ`train.txt`，`valid.txt`，`test.txt`というファイル名で保存する．ファイルには，１行に１事例を書き出すこととし，カテゴリ名と記事見出しのタブ区切り形式とせよ（このファイルは後に問題70で再利用する）．\n",
    "\n",
    "学習データと評価データを作成したら，各カテゴリの事例数を確認せよ．"
   ]
  },
  {
   "cell_type": "code",
   "execution_count": 1,
   "metadata": {
    "colab": {
     "base_uri": "https://localhost:8080/"
    },
    "id": "u9HilAxiHLyb",
    "outputId": "214a4a3f-f020-43e6-8beb-91b19d3b9028"
   },
   "outputs": [
    {
     "name": "stdout",
     "output_type": "stream",
     "text": [
      "--2023-04-11 21:27:39--  https://archive.ics.uci.edu/ml/machine-learning-databases/00359/NewsAggregatorDataset.zip\n",
      "Resolving archive.ics.uci.edu (archive.ics.uci.edu)... 128.195.10.252\n",
      "Connecting to archive.ics.uci.edu (archive.ics.uci.edu)|128.195.10.252|:443... connected.\n",
      "HTTP request sent, awaiting response... 200 OK\n",
      "Length: 29224203 (28M) [application/x-httpd-php]\n",
      "Saving to: 'NewsAggregatorDataset.zip'\n",
      "\n",
      "NewsAggregatorDatas 100%[===================>]  27.87M  7.98MB/s    in 3.7s    \n",
      "\n",
      "2023-04-11 21:27:43 (7.48 MB/s) - 'NewsAggregatorDataset.zip' saved [29224203/29224203]\n",
      "\n"
     ]
    }
   ],
   "source": [
    "!wget https://archive.ics.uci.edu/ml/machine-learning-databases/00359/NewsAggregatorDataset.zip"
   ]
  },
  {
   "cell_type": "code",
   "execution_count": 2,
   "metadata": {
    "colab": {
     "base_uri": "https://localhost:8080/"
    },
    "id": "PmyqZ4utCZIS",
    "outputId": "d34c665e-9d50-4b40-bf9d-7b0f818a1ce0"
   },
   "outputs": [
    {
     "name": "stdout",
     "output_type": "stream",
     "text": [
      "Archive:  NewsAggregatorDataset.zip\n",
      "  inflating: 2pageSessions.csv       \n",
      "   creating: __MACOSX/\n",
      "  inflating: __MACOSX/._2pageSessions.csv  \n",
      "  inflating: newsCorpora.csv         \n",
      "  inflating: __MACOSX/._newsCorpora.csv  \n",
      "  inflating: readme.txt              \n",
      "  inflating: __MACOSX/._readme.txt   \n"
     ]
    }
   ],
   "source": [
    "!unzip NewsAggregatorDataset.zip"
   ]
  },
  {
   "cell_type": "code",
   "execution_count": 1,
   "metadata": {
    "colab": {
     "base_uri": "https://localhost:8080/"
    },
    "id": "F_2y3c6LdVPu",
    "outputId": "311f65e9-97da-48e5-8715-505f1071b02c"
   },
   "outputs": [
    {
     "name": "stdout",
     "output_type": "stream",
     "text": [
      "-TRAIN-\n",
      "b    4466\n",
      "e    4266\n",
      "t    1219\n",
      "m     721\n",
      "Name: category, dtype: int64\n",
      "-VALID-\n",
      "b    587\n",
      "e    524\n",
      "t    135\n",
      "m     88\n",
      "Name: category, dtype: int64\n",
      "-TEST-\n",
      "b    574\n",
      "e    489\n",
      "t    170\n",
      "m    101\n",
      "Name: category, dtype: int64\n"
     ]
    }
   ],
   "source": [
    "#Alternative: from sklearn.model_selection import train_test_split\n",
    "\n",
    "import numpy as np\n",
    "import pandas as pd\n",
    "\n",
    "df = pd.read_csv('newsCorpora.csv', sep='\\t', names=('id','title','url','publisher','category','story','hostname','timestamp'))\n",
    "df = df[(df['publisher'] == 'Reuters') |\n",
    "   (df['publisher'] == 'Huffington Post') |\n",
    "   (df['publisher'] == 'Businessweek') |\n",
    "   (df['publisher'] == 'Businessweek') |\n",
    "   (df['publisher'] == 'Contactmusic.com') |\n",
    "   (df['publisher'] == 'Daily Mail')]\n",
    "#Alternative: df = df.loc[df['publisher'].isin(['Reuters', 'Huffington Post', 'Businessweek', 'Contactmusic.com', 'Daily Mail'])]\n",
    "\n",
    "df = df.sample(frac=1)\n",
    "\n",
    "ratio_train, ratio_valid = 0.8, 0.1\n",
    "n_train, n_valid = (np.array([ratio_train, ratio_valid]) * len(df)).astype(int)\n",
    "\n",
    "train = df.iloc[:n_train]\n",
    "valid = df.iloc[n_train:n_train+n_valid]\n",
    "test = df.iloc[n_train+n_valid:]\n",
    "\n",
    "train.to_csv('train.txt', header=False, index=False, sep='\\t')\n",
    "valid.to_csv('valid.txt', header=False, index=False, sep='\\t')\n",
    "test.to_csv('test.txt', header=False, index=False, sep='\\t')\n",
    "\n",
    "print('-TRAIN-')\n",
    "print(train['category'].value_counts())\n",
    "print('-VALID-')\n",
    "print(valid['category'].value_counts())\n",
    "print('-TEST-')\n",
    "print(test['category'].value_counts())"
   ]
  },
  {
   "cell_type": "markdown",
   "metadata": {
    "id": "viIQ1MOy_k2I"
   },
   "source": [
    "## 51 特徴量抽出\n",
    "学習データ，検証データ，評価データから特徴量を抽出し，それぞれ`train.feature.txt`，`valid.feature.txt`，`test.feature.txt`というファイル名で保存せよ． なお，カテゴリ分類に有用そうな特徴量は各自で自由に設計せよ．記事の見出しを単語列に変換したものが最低限のベースラインとなるであろう．"
   ]
  },
  {
   "cell_type": "code",
   "execution_count": 2,
   "metadata": {
    "tags": []
   },
   "outputs": [],
   "source": [
    "#Alternative: from sklearn.feature_extraction.text import TfidfVectorizer\n",
    "from sklearn.feature_extraction.text import CountVectorizer, TfidfVectorizer\n",
    "import pickle\n",
    "\n",
    "train_corpus = train['title'].values\n",
    "valid_corpus = valid['title'].values\n",
    "test_corpus = test['title'].values\n",
    "\n",
    "vectorizer = CountVectorizer(stop_words='english')\n",
    "#vectorizer = TfidfVectorizer(stop_words='english')\n",
    "train_feature = vectorizer.fit_transform(train_corpus)\n",
    "valid_feature = vectorizer.transform(valid_corpus)\n",
    "test_feature = vectorizer.transform(test_corpus)\n",
    "\n",
    "features = vectorizer.get_feature_names_out()\n",
    "\n",
    "train_feature_df = pd.DataFrame(train_feature.toarray(), columns = features)\n",
    "valid_feature_df = pd.DataFrame(valid_feature.toarray(), columns = features)\n",
    "test_feature_df = pd.DataFrame(test_feature.toarray(), columns = features)\n",
    "\n",
    "pickle.dump(train_feature_df, open('train.feature.txt', 'wb'))\n",
    "pickle.dump(valid_feature_df, open('valid.feature.txt', 'wb'))\n",
    "pickle.dump(test_feature_df, open('test.feature.txt', 'wb'))\n",
    "\n",
    "#train_feature_df.to_csv('train.feature.txt', header=False, index=False, sep='\\t')\n",
    "#valid_feature_df.to_csv('valid.feature.txt', header=False, index=False, sep='\\t')\n",
    "#test_feature_df.to_csv('test.feature.txt', header=False, index=False, sep='\\t')"
   ]
  },
  {
   "cell_type": "markdown",
   "metadata": {
    "id": "zGr6uESZ_lGO"
   },
   "source": [
    "## 52 学習\n",
    "51で構築した学習データを用いて，ロジスティック回帰モデルを学習せよ．"
   ]
  },
  {
   "cell_type": "code",
   "execution_count": 20,
   "metadata": {
    "tags": []
   },
   "outputs": [],
   "source": [
    "from sklearn.linear_model import LogisticRegression\n",
    "\n",
    "X = train_feature\n",
    "y = train['category']\n",
    "clf = LogisticRegression(max_iter=200).fit(X, y)"
   ]
  },
  {
   "cell_type": "markdown",
   "metadata": {
    "id": "gXzJzZMy_lUf"
   },
   "source": [
    "## 53 予測\n",
    "52で学習したロジスティック回帰モデルを用い，与えられた記事見出しからカテゴリとその予測確率を計算するプログラムを実装せよ．"
   ]
  },
  {
   "cell_type": "code",
   "execution_count": 21,
   "metadata": {
    "tags": []
   },
   "outputs": [
    {
     "data": {
      "text/plain": [
       "('e', 0.7354281793093395)"
      ]
     },
     "execution_count": 21,
     "metadata": {},
     "output_type": "execute_result"
    }
   ],
   "source": [
    "def predict(title):\n",
    "    feature = vectorizer.transform([title])\n",
    "    result = clf.predict(feature)[0]\n",
    "    proba = max(clf.predict_proba(feature)[0])\n",
    "    return result, proba\n",
    "\n",
    "predict('test movie')"
   ]
  },
  {
   "cell_type": "markdown",
   "metadata": {
    "id": "pAw7XBaG_ljH"
   },
   "source": [
    "## 54 正解率の計測\n",
    "52で学習したロジスティック回帰モデルの正解率を，学習データおよび評価データ上で計測せよ．"
   ]
  },
  {
   "cell_type": "code",
   "execution_count": 22,
   "metadata": {
    "tags": []
   },
   "outputs": [
    {
     "name": "stdout",
     "output_type": "stream",
     "text": [
      "accuracy@train:\n",
      "0.9951274362818591 \n",
      "\n",
      "accuracy@test:\n",
      "0.9092953523238381\n"
     ]
    }
   ],
   "source": [
    "from sklearn.metrics import accuracy_score\n",
    "\n",
    "def get_prediction(df):\n",
    "    return np.vectorize(predict)(df['title'])[0]\n",
    "\n",
    "prediction_train = get_prediction(train)\n",
    "prediction_valid = get_prediction(valid)\n",
    "prediction_test = get_prediction(test)\n",
    "\n",
    "print('accuracy@train:')\n",
    "print(accuracy_score(train['category'], prediction_train), '\\n')\n",
    "\n",
    "print('accuracy@test:')\n",
    "print(accuracy_score(test['category'], prediction_test))"
   ]
  },
  {
   "cell_type": "markdown",
   "metadata": {
    "id": "lWij-d_t_lxT"
   },
   "source": [
    "## 55 混同行列の作成\n",
    "52で学習したロジスティック回帰モデルの混同行列（confusion matrix）を，学習データおよび評価データ上で作成せよ．"
   ]
  },
  {
   "cell_type": "code",
   "execution_count": 23,
   "metadata": {
    "id": "VOPr5LqidTBh"
   },
   "outputs": [
    {
     "name": "stdout",
     "output_type": "stream",
     "text": [
      "confusion_matrix@train:\n",
      "\n",
      "      b     t     e    m\n",
      "b  4449    10     6    1\n",
      "t    15  1199     5    0\n",
      "e     7     1  4258    0\n",
      "m     3     0     4  714 \n",
      "\n",
      "confusion_matrix@test:\n",
      "\n",
      "     b    t    e   m\n",
      "b  548   11   11   4\n",
      "t   26  117   24   3\n",
      "e    6    1  480   2\n",
      "m   15    1   17  68\n"
     ]
    }
   ],
   "source": [
    "from sklearn.metrics import confusion_matrix\n",
    "#lesson learned: use heat map instead\n",
    "\n",
    "labels = ['b','t','e','m']\n",
    "\n",
    "confusion_matrix_train =  confusion_matrix(train['category'], prediction_train, labels=labels)\n",
    "confusion_matrix_test =  confusion_matrix(test['category'], prediction_test, labels=labels)\n",
    "\n",
    "print('confusion_matrix@train:\\n')\n",
    "print(pd.DataFrame(confusion_matrix_train, index=labels, columns=labels), '\\n')\n",
    "\n",
    "print('confusion_matrix@test:\\n')\n",
    "print(pd.DataFrame(confusion_matrix_test, index=labels, columns=labels))"
   ]
  },
  {
   "cell_type": "markdown",
   "metadata": {
    "id": "E4tRTul0_mB4"
   },
   "source": [
    "## 56 適合率，再現率，F1スコアの計測\n",
    "52で学習したロジスティック回帰モデルの適合率，再現率，F1スコアを，評価データ上で計測せよ．カテゴリごとに適合率，再現率，F1スコアを求め，カテゴリごとの性能をマイクロ平均（micro-average）とマクロ平均（macro-average）で統合せよ．"
   ]
  },
  {
   "cell_type": "code",
   "execution_count": 25,
   "metadata": {
    "id": "XemRYDVgdSZd"
   },
   "outputs": [
    {
     "data": {
      "text/html": [
       "<div>\n",
       "<style scoped>\n",
       "    .dataframe tbody tr th:only-of-type {\n",
       "        vertical-align: middle;\n",
       "    }\n",
       "\n",
       "    .dataframe tbody tr th {\n",
       "        vertical-align: top;\n",
       "    }\n",
       "\n",
       "    .dataframe thead th {\n",
       "        text-align: right;\n",
       "    }\n",
       "</style>\n",
       "<table border=\"1\" class=\"dataframe\">\n",
       "  <thead>\n",
       "    <tr style=\"text-align: right;\">\n",
       "      <th></th>\n",
       "      <th>b</th>\n",
       "      <th>t</th>\n",
       "      <th>e</th>\n",
       "      <th>m</th>\n",
       "      <th>macro</th>\n",
       "      <th>micro</th>\n",
       "    </tr>\n",
       "  </thead>\n",
       "  <tbody>\n",
       "    <tr>\n",
       "      <th>precision</th>\n",
       "      <td>0.921008</td>\n",
       "      <td>0.900000</td>\n",
       "      <td>0.902256</td>\n",
       "      <td>0.883117</td>\n",
       "      <td>0.901595</td>\n",
       "      <td>0.909295</td>\n",
       "    </tr>\n",
       "    <tr>\n",
       "      <th>recall</th>\n",
       "      <td>0.954704</td>\n",
       "      <td>0.688235</td>\n",
       "      <td>0.981595</td>\n",
       "      <td>0.673267</td>\n",
       "      <td>0.824450</td>\n",
       "      <td>0.909295</td>\n",
       "    </tr>\n",
       "    <tr>\n",
       "      <th>fscore</th>\n",
       "      <td>0.937553</td>\n",
       "      <td>0.780000</td>\n",
       "      <td>0.940255</td>\n",
       "      <td>0.764045</td>\n",
       "      <td>0.855463</td>\n",
       "      <td>0.909295</td>\n",
       "    </tr>\n",
       "  </tbody>\n",
       "</table>\n",
       "</div>"
      ],
      "text/plain": [
       "                  b         t         e         m     macro     micro\n",
       "precision  0.921008  0.900000  0.902256  0.883117  0.901595  0.909295\n",
       "recall     0.954704  0.688235  0.981595  0.673267  0.824450  0.909295\n",
       "fscore     0.937553  0.780000  0.940255  0.764045  0.855463  0.909295"
      ]
     },
     "metadata": {},
     "output_type": "display_data"
    }
   ],
   "source": [
    "from sklearn.metrics import precision_recall_fscore_support\n",
    "from sklearn.metrics import precision_score\n",
    "from sklearn.metrics import recall_score\n",
    "from statistics import harmonic_mean\n",
    "\n",
    "result = precision_recall_fscore_support(test['category'], prediction_test, labels = labels)[:3]\n",
    "result_df = pd.DataFrame(result, index=['precision', 'recall', 'fscore'], columns=labels)\n",
    "result_df['macro'] = np.array(result).mean(axis=1)\n",
    "\n",
    "p_micro = precision_score(test['category'], prediction_test, average='micro')\n",
    "r_micro = recall_score(test['category'], prediction_test, average='micro')\n",
    "f_micro = harmonic_mean([p_micro, r_micro])\n",
    "result_df['micro'] = [p_micro, r_micro, f_micro]\n",
    "#↑ ここでp_microなどはみんなaccuracyと同等になるので、この前のaccuracyの結果をそのまま使ってもいいかも\n",
    "\n",
    "display(pd.DataFrame(result_df))"
   ]
  },
  {
   "cell_type": "markdown",
   "metadata": {
    "id": "9z3Co9Ro_mWn"
   },
   "source": [
    "## 57 特徴量の重みの確認\n",
    "52で学習したロジスティック回帰モデルの中で，重みの高い特徴量トップ10と，重みの低い特徴量トップ10を確認せよ．"
   ]
  },
  {
   "cell_type": "code",
   "execution_count": 26,
   "metadata": {
    "id": "dFHXFY-SHZNj"
   },
   "outputs": [
    {
     "data": {
      "text/html": [
       "<div>\n",
       "<style scoped>\n",
       "    .dataframe tbody tr th:only-of-type {\n",
       "        vertical-align: middle;\n",
       "    }\n",
       "\n",
       "    .dataframe tbody tr th {\n",
       "        vertical-align: top;\n",
       "    }\n",
       "\n",
       "    .dataframe thead th {\n",
       "        text-align: right;\n",
       "    }\n",
       "</style>\n",
       "<table border=\"1\" class=\"dataframe\">\n",
       "  <thead>\n",
       "    <tr style=\"text-align: right;\">\n",
       "      <th></th>\n",
       "      <th>Best 10</th>\n",
       "      <th>Worst 10</th>\n",
       "    </tr>\n",
       "  </thead>\n",
       "  <tbody>\n",
       "    <tr>\n",
       "      <th>1</th>\n",
       "      <td>ebola</td>\n",
       "      <td>1399985295432</td>\n",
       "    </tr>\n",
       "    <tr>\n",
       "      <th>2</th>\n",
       "      <td>google</td>\n",
       "      <td>1399985294870</td>\n",
       "    </tr>\n",
       "    <tr>\n",
       "      <th>3</th>\n",
       "      <td>facebook</td>\n",
       "      <td>cmgcontent_internallink_relatedcontent_2014_pa...</td>\n",
       "    </tr>\n",
       "    <tr>\n",
       "      <th>4</th>\n",
       "      <td>microsoft</td>\n",
       "      <td>8001233</td>\n",
       "    </tr>\n",
       "    <tr>\n",
       "      <th>5</th>\n",
       "      <td>apple</td>\n",
       "      <td>icmp</td>\n",
       "    </tr>\n",
       "    <tr>\n",
       "      <th>6</th>\n",
       "      <td>climate</td>\n",
       "      <td>149002</td>\n",
       "    </tr>\n",
       "    <tr>\n",
       "      <th>7</th>\n",
       "      <td>fda</td>\n",
       "      <td>148948</td>\n",
       "    </tr>\n",
       "    <tr>\n",
       "      <th>8</th>\n",
       "      <td>gm</td>\n",
       "      <td>id</td>\n",
       "    </tr>\n",
       "    <tr>\n",
       "      <th>9</th>\n",
       "      <td>activision</td>\n",
       "      <td>riddler</td>\n",
       "    </tr>\n",
       "    <tr>\n",
       "      <th>10</th>\n",
       "      <td>cancer</td>\n",
       "      <td>1399985295162</td>\n",
       "    </tr>\n",
       "  </tbody>\n",
       "</table>\n",
       "</div>"
      ],
      "text/plain": [
       "       Best 10                                           Worst 10\n",
       "1        ebola                                      1399985295432\n",
       "2       google                                      1399985294870\n",
       "3     facebook  cmgcontent_internallink_relatedcontent_2014_pa...\n",
       "4    microsoft                                            8001233\n",
       "5        apple                                               icmp\n",
       "6      climate                                             149002\n",
       "7          fda                                             148948\n",
       "8           gm                                                 id\n",
       "9   activision                                            riddler\n",
       "10      cancer                                      1399985295162"
      ]
     },
     "metadata": {},
     "output_type": "display_data"
    }
   ],
   "source": [
    "weights = np.abs(clf.coef_).mean(axis=0)\n",
    "feature_names = vectorizer.get_feature_names_out()\n",
    "index = [i for i in range(1, 11)]\n",
    "\n",
    "# cf. https://stackoverflow.com/questions/6910641/how-do-i-get-indices-of-n-maximum-values-in-a-numpy-array\n",
    "\n",
    "def get_best_ind(weights):\n",
    "    ind = np.argpartition(weights, -10)[-10:]\n",
    "    ind = ind[np.argsort(weights[ind])]\n",
    "    return ind[::-1]\n",
    "\n",
    "def get_worst_ind(weights):\n",
    "    ind = np.argpartition(weights, 9)[:10]\n",
    "    ind = ind[np.argsort(weights[ind])]\n",
    "    return ind\n",
    "                                                                                 \n",
    "result_df = pd.DataFrame(index = index)\n",
    "result_df['Best 10'] = feature_names[get_best_ind(weights)]\n",
    "result_df['Worst 10'] = feature_names[get_worst_ind(weights)]\n",
    "display(result_df)"
   ]
  },
  {
   "cell_type": "code",
   "execution_count": 27,
   "metadata": {
    "tags": []
   },
   "outputs": [
    {
     "name": "stdout",
     "output_type": "stream",
     "text": [
      "(-3.0851627490560905e-06, 5.916631859909418e-06, -1.3215385419351126e-06, -1.5099305689183263e-06)\n",
      "(-0.6324102549165361, 1.335478475451997, -0.30320199647654156, -0.3998662240589192)\n"
     ]
    }
   ],
   "source": [
    "#謎のbeyonces (ちゃんとstemmingしなかったせい？)\n",
    "\n",
    "print(list(zip(*clf.coef_))[vectorizer.vocabulary_['beyonces']])\n",
    "print(list(zip(*clf.coef_))[vectorizer.vocabulary_['beyonce']])"
   ]
  },
  {
   "cell_type": "code",
   "execution_count": 28,
   "metadata": {
    "tags": []
   },
   "outputs": [
    {
     "name": "stdout",
     "output_type": "stream",
     "text": [
      "【カテゴリ】b\n"
     ]
    },
    {
     "data": {
      "text/html": [
       "<div>\n",
       "<style scoped>\n",
       "    .dataframe tbody tr th:only-of-type {\n",
       "        vertical-align: middle;\n",
       "    }\n",
       "\n",
       "    .dataframe tbody tr th {\n",
       "        vertical-align: top;\n",
       "    }\n",
       "\n",
       "    .dataframe thead th {\n",
       "        text-align: right;\n",
       "    }\n",
       "</style>\n",
       "<table border=\"1\" class=\"dataframe\">\n",
       "  <thead>\n",
       "    <tr style=\"text-align: right;\">\n",
       "      <th></th>\n",
       "      <th>1</th>\n",
       "      <th>2</th>\n",
       "      <th>3</th>\n",
       "      <th>4</th>\n",
       "      <th>5</th>\n",
       "      <th>6</th>\n",
       "      <th>7</th>\n",
       "      <th>8</th>\n",
       "      <th>9</th>\n",
       "      <th>10</th>\n",
       "    </tr>\n",
       "  </thead>\n",
       "  <tbody>\n",
       "    <tr>\n",
       "      <th>重要度上位</th>\n",
       "      <td>bank</td>\n",
       "      <td>fed</td>\n",
       "      <td>ecb</td>\n",
       "      <td>obamacare</td>\n",
       "      <td>china</td>\n",
       "      <td>argentina</td>\n",
       "      <td>dollar</td>\n",
       "      <td>ukraine</td>\n",
       "      <td>uber</td>\n",
       "      <td>oil</td>\n",
       "    </tr>\n",
       "    <tr>\n",
       "      <th>重要度下位</th>\n",
       "      <td>activision</td>\n",
       "      <td>aereo</td>\n",
       "      <td>nintendo</td>\n",
       "      <td>ebola</td>\n",
       "      <td>twitch</td>\n",
       "      <td>cap</td>\n",
       "      <td>virus</td>\n",
       "      <td>subscription</td>\n",
       "      <td>sony</td>\n",
       "      <td>heart</td>\n",
       "    </tr>\n",
       "  </tbody>\n",
       "</table>\n",
       "</div>"
      ],
      "text/plain": [
       "               1      2         3          4       5          6       7   \\\n",
       "重要度上位        bank    fed       ecb  obamacare   china  argentina  dollar   \n",
       "重要度下位  activision  aereo  nintendo      ebola  twitch        cap   virus   \n",
       "\n",
       "                 8     9      10  \n",
       "重要度上位       ukraine  uber    oil  \n",
       "重要度下位  subscription  sony  heart  "
      ]
     },
     "metadata": {},
     "output_type": "display_data"
    },
    {
     "name": "stdout",
     "output_type": "stream",
     "text": [
      "\n",
      "\n",
      "【カテゴリ】e\n"
     ]
    },
    {
     "data": {
      "text/html": [
       "<div>\n",
       "<style scoped>\n",
       "    .dataframe tbody tr th:only-of-type {\n",
       "        vertical-align: middle;\n",
       "    }\n",
       "\n",
       "    .dataframe tbody tr th {\n",
       "        vertical-align: top;\n",
       "    }\n",
       "\n",
       "    .dataframe thead th {\n",
       "        text-align: right;\n",
       "    }\n",
       "</style>\n",
       "<table border=\"1\" class=\"dataframe\">\n",
       "  <thead>\n",
       "    <tr style=\"text-align: right;\">\n",
       "      <th></th>\n",
       "      <th>1</th>\n",
       "      <th>2</th>\n",
       "      <th>3</th>\n",
       "      <th>4</th>\n",
       "      <th>5</th>\n",
       "      <th>6</th>\n",
       "      <th>7</th>\n",
       "      <th>8</th>\n",
       "      <th>9</th>\n",
       "      <th>10</th>\n",
       "    </tr>\n",
       "  </thead>\n",
       "  <tbody>\n",
       "    <tr>\n",
       "      <th>重要度上位</th>\n",
       "      <td>kardashian</td>\n",
       "      <td>chris</td>\n",
       "      <td>paul</td>\n",
       "      <td>miley</td>\n",
       "      <td>movie</td>\n",
       "      <td>cyrus</td>\n",
       "      <td>beyonce</td>\n",
       "      <td>hbo</td>\n",
       "      <td>cannes</td>\n",
       "      <td>jay</td>\n",
       "    </tr>\n",
       "    <tr>\n",
       "      <th>重要度下位</th>\n",
       "      <td>google</td>\n",
       "      <td>facebook</td>\n",
       "      <td>china</td>\n",
       "      <td>microsoft</td>\n",
       "      <td>study</td>\n",
       "      <td>gm</td>\n",
       "      <td>billion</td>\n",
       "      <td>data</td>\n",
       "      <td>oil</td>\n",
       "      <td>scientists</td>\n",
       "    </tr>\n",
       "  </tbody>\n",
       "</table>\n",
       "</div>"
      ],
      "text/plain": [
       "               1         2      3          4      5      6        7     8   \\\n",
       "重要度上位  kardashian     chris   paul      miley  movie  cyrus  beyonce   hbo   \n",
       "重要度下位      google  facebook  china  microsoft  study     gm  billion  data   \n",
       "\n",
       "           9           10  \n",
       "重要度上位  cannes         jay  \n",
       "重要度下位     oil  scientists  "
      ]
     },
     "metadata": {},
     "output_type": "display_data"
    },
    {
     "name": "stdout",
     "output_type": "stream",
     "text": [
      "\n",
      "\n",
      "【カテゴリ】m\n"
     ]
    },
    {
     "data": {
      "text/html": [
       "<div>\n",
       "<style scoped>\n",
       "    .dataframe tbody tr th:only-of-type {\n",
       "        vertical-align: middle;\n",
       "    }\n",
       "\n",
       "    .dataframe tbody tr th {\n",
       "        vertical-align: top;\n",
       "    }\n",
       "\n",
       "    .dataframe thead th {\n",
       "        text-align: right;\n",
       "    }\n",
       "</style>\n",
       "<table border=\"1\" class=\"dataframe\">\n",
       "  <thead>\n",
       "    <tr style=\"text-align: right;\">\n",
       "      <th></th>\n",
       "      <th>1</th>\n",
       "      <th>2</th>\n",
       "      <th>3</th>\n",
       "      <th>4</th>\n",
       "      <th>5</th>\n",
       "      <th>6</th>\n",
       "      <th>7</th>\n",
       "      <th>8</th>\n",
       "      <th>9</th>\n",
       "      <th>10</th>\n",
       "    </tr>\n",
       "  </thead>\n",
       "  <tbody>\n",
       "    <tr>\n",
       "      <th>重要度上位</th>\n",
       "      <td>ebola</td>\n",
       "      <td>fda</td>\n",
       "      <td>cancer</td>\n",
       "      <td>mers</td>\n",
       "      <td>drug</td>\n",
       "      <td>study</td>\n",
       "      <td>cases</td>\n",
       "      <td>cigarettes</td>\n",
       "      <td>cdc</td>\n",
       "      <td>health</td>\n",
       "    </tr>\n",
       "    <tr>\n",
       "      <th>重要度下位</th>\n",
       "      <td>gm</td>\n",
       "      <td>dimon</td>\n",
       "      <td>facebook</td>\n",
       "      <td>apple</td>\n",
       "      <td>climate</td>\n",
       "      <td>buy</td>\n",
       "      <td>netflix</td>\n",
       "      <td>fed</td>\n",
       "      <td>sell</td>\n",
       "      <td>twitter</td>\n",
       "    </tr>\n",
       "  </tbody>\n",
       "</table>\n",
       "</div>"
      ],
      "text/plain": [
       "          1      2         3      4        5      6        7           8   \\\n",
       "重要度上位  ebola    fda    cancer   mers     drug  study    cases  cigarettes   \n",
       "重要度下位     gm  dimon  facebook  apple  climate    buy  netflix         fed   \n",
       "\n",
       "         9        10  \n",
       "重要度上位   cdc   health  \n",
       "重要度下位  sell  twitter  "
      ]
     },
     "metadata": {},
     "output_type": "display_data"
    },
    {
     "name": "stdout",
     "output_type": "stream",
     "text": [
      "\n",
      "\n",
      "【カテゴリ】t\n"
     ]
    },
    {
     "data": {
      "text/html": [
       "<div>\n",
       "<style scoped>\n",
       "    .dataframe tbody tr th:only-of-type {\n",
       "        vertical-align: middle;\n",
       "    }\n",
       "\n",
       "    .dataframe tbody tr th {\n",
       "        vertical-align: top;\n",
       "    }\n",
       "\n",
       "    .dataframe thead th {\n",
       "        text-align: right;\n",
       "    }\n",
       "</style>\n",
       "<table border=\"1\" class=\"dataframe\">\n",
       "  <thead>\n",
       "    <tr style=\"text-align: right;\">\n",
       "      <th></th>\n",
       "      <th>1</th>\n",
       "      <th>2</th>\n",
       "      <th>3</th>\n",
       "      <th>4</th>\n",
       "      <th>5</th>\n",
       "      <th>6</th>\n",
       "      <th>7</th>\n",
       "      <th>8</th>\n",
       "      <th>9</th>\n",
       "      <th>10</th>\n",
       "    </tr>\n",
       "  </thead>\n",
       "  <tbody>\n",
       "    <tr>\n",
       "      <th>重要度上位</th>\n",
       "      <td>google</td>\n",
       "      <td>facebook</td>\n",
       "      <td>microsoft</td>\n",
       "      <td>apple</td>\n",
       "      <td>climate</td>\n",
       "      <td>activision</td>\n",
       "      <td>heartbleed</td>\n",
       "      <td>nasa</td>\n",
       "      <td>tesla</td>\n",
       "      <td>fcc</td>\n",
       "    </tr>\n",
       "    <tr>\n",
       "      <th>重要度下位</th>\n",
       "      <td>stocks</td>\n",
       "      <td>percent</td>\n",
       "      <td>valued</td>\n",
       "      <td>shares</td>\n",
       "      <td>upholds</td>\n",
       "      <td>men</td>\n",
       "      <td>grows</td>\n",
       "      <td>fed</td>\n",
       "      <td>kids</td>\n",
       "      <td>drug</td>\n",
       "    </tr>\n",
       "  </tbody>\n",
       "</table>\n",
       "</div>"
      ],
      "text/plain": [
       "           1         2          3       4        5           6           7   \\\n",
       "重要度上位  google  facebook  microsoft   apple  climate  activision  heartbleed   \n",
       "重要度下位  stocks   percent     valued  shares  upholds         men       grows   \n",
       "\n",
       "         8      9     10  \n",
       "重要度上位  nasa  tesla   fcc  \n",
       "重要度下位   fed   kids  drug  "
      ]
     },
     "metadata": {},
     "output_type": "display_data"
    },
    {
     "name": "stdout",
     "output_type": "stream",
     "text": [
      "\n",
      "\n"
     ]
    }
   ],
   "source": [
    "#adapted from https://amaru-ai.com/entry/2022/10/12/202559\n",
    "\n",
    "for c, coef in zip(clf.classes_, clf.coef_):\n",
    "    print(f'【カテゴリ】{c}')\n",
    "    \n",
    "    #best10 = pd.DataFrame(feature_names[np.argsort(coef)[::-1][:10]], columns=['重要度上位'], index=index).T\n",
    "    best10 = pd.DataFrame(feature_names[get_best_ind(coef)], columns=['重要度上位'], index=index).T\n",
    "    \n",
    "    #worst10 = pd.DataFrame(feature_names[np.argsort(coef)[:10]], columns=['重要度下位'], index=index).T\n",
    "    worst10 = pd.DataFrame(feature_names[get_worst_ind(coef)], columns=['重要度下位'], index=index).T\n",
    "    \n",
    "    display(pd.concat([best10, worst10], axis=0))\n",
    "    print('\\n')"
   ]
  },
  {
   "cell_type": "code",
   "execution_count": 30,
   "metadata": {
    "tags": []
   },
   "outputs": [
    {
     "name": "stdout",
     "output_type": "stream",
     "text": [
      "         10 function calls in 0.002 seconds\n",
      "\n",
      "   Ordered by: standard name\n",
      "\n",
      "   ncalls  tottime  percall  cumtime  percall filename:lineno(function)\n",
      "        1    0.000    0.000    0.002    0.002 <__array_function__ internals>:2(argsort)\n",
      "        1    0.000    0.000    0.002    0.002 <string>:1(<module>)\n",
      "        1    0.000    0.000    0.000    0.000 fromnumeric.py:1002(_argsort_dispatcher)\n",
      "        1    0.000    0.000    0.002    0.002 fromnumeric.py:1006(argsort)\n",
      "        1    0.000    0.000    0.002    0.002 fromnumeric.py:51(_wrapfunc)\n",
      "        1    0.000    0.000    0.002    0.002 {built-in method builtins.exec}\n",
      "        1    0.000    0.000    0.000    0.000 {built-in method builtins.getattr}\n",
      "        1    0.000    0.000    0.002    0.002 {built-in method numpy.core._multiarray_umath.implement_array_function}\n",
      "        1    0.002    0.002    0.002    0.002 {method 'argsort' of 'numpy.ndarray' objects}\n",
      "        1    0.000    0.000    0.000    0.000 {method 'disable' of '_lsprof.Profiler' objects}\n",
      "\n",
      "\n",
      "         18 function calls in 0.000 seconds\n",
      "\n",
      "   Ordered by: standard name\n",
      "\n",
      "   ncalls  tottime  percall  cumtime  percall filename:lineno(function)\n",
      "        1    0.000    0.000    0.000    0.000 1688668711.py:7(get_best_ind)\n",
      "        1    0.000    0.000    0.000    0.000 <__array_function__ internals>:2(argpartition)\n",
      "        1    0.000    0.000    0.000    0.000 <__array_function__ internals>:2(argsort)\n",
      "        1    0.000    0.000    0.000    0.000 <string>:1(<module>)\n",
      "        1    0.000    0.000    0.000    0.000 fromnumeric.py:1002(_argsort_dispatcher)\n",
      "        1    0.000    0.000    0.000    0.000 fromnumeric.py:1006(argsort)\n",
      "        2    0.000    0.000    0.000    0.000 fromnumeric.py:51(_wrapfunc)\n",
      "        1    0.000    0.000    0.000    0.000 fromnumeric.py:759(_argpartition_dispatcher)\n",
      "        1    0.000    0.000    0.000    0.000 fromnumeric.py:763(argpartition)\n",
      "        1    0.000    0.000    0.000    0.000 {built-in method builtins.exec}\n",
      "        2    0.000    0.000    0.000    0.000 {built-in method builtins.getattr}\n",
      "        2    0.000    0.000    0.000    0.000 {built-in method numpy.core._multiarray_umath.implement_array_function}\n",
      "        1    0.000    0.000    0.000    0.000 {method 'argpartition' of 'numpy.ndarray' objects}\n",
      "        1    0.000    0.000    0.000    0.000 {method 'argsort' of 'numpy.ndarray' objects}\n",
      "        1    0.000    0.000    0.000    0.000 {method 'disable' of '_lsprof.Profiler' objects}\n",
      "\n",
      "\n"
     ]
    }
   ],
   "source": [
    "#get_best_ind is more efficient\n",
    "\n",
    "import cProfile\n",
    "cProfile.run('np.argsort(weights)')#O(nlogn)\n",
    "cProfile.run('get_best_ind(weights)')#O(n + klogk)"
   ]
  },
  {
   "cell_type": "markdown",
   "metadata": {
    "id": "d9oJRTWZ_mml"
   },
   "source": [
    "## 58 正則化パラメータの変更\n",
    "ロジスティック回帰モデルを学習するとき，正則化パラメータを調整することで，学習時の過学習（overfitting）の度合いを制御できる．異なる正則化パラメータでロジスティック回帰モデルを学習し，学習データ，検証データ，および評価データ上の正解率を求めよ．実験の結果は，正則化パラメータを横軸，正解率を縦軸としたグラフにまとめよ．"
   ]
  },
  {
   "cell_type": "code",
   "execution_count": 31,
   "metadata": {
    "tags": []
   },
   "outputs": [],
   "source": [
    "import matplotlib.pyplot as plt\n",
    "\n",
    "strengths = np.linspace(0.001, 2, num=10)\n",
    "\n",
    "acc_train = []\n",
    "acc_valid = []\n",
    "acc_test = []\n",
    "\n",
    "for strength in strengths:\n",
    "    clf = LogisticRegression(max_iter=1000, C = 1/strength).fit(X, y)\n",
    "    acc_train.append(accuracy_score(train['category'], get_prediction(train)))\n",
    "    acc_valid.append(accuracy_score(valid['category'], get_prediction(valid)))\n",
    "    acc_test.append(accuracy_score(test['category'], get_prediction(test)))"
   ]
  },
  {
   "cell_type": "code",
   "execution_count": 32,
   "metadata": {
    "tags": []
   },
   "outputs": [
    {
     "data": {
      "image/png": "[encoded data removed]",
      "text/plain": [
       "<Figure size 640x480 with 1 Axes>"
      ]
     },
     "metadata": {},
     "output_type": "display_data"
    }
   ],
   "source": [
    "plt.plot(strengths, acc_train, label='train')\n",
    "plt.plot(strengths, acc_valid, label='valid')\n",
    "plt.plot(strengths, acc_test, label='test')\n",
    "plt.xlabel('regularization strength')\n",
    "plt.ylabel('accuracy')\n",
    "plt.legend()\n",
    "plt.show()"
   ]
  },
  {
   "cell_type": "code",
   "execution_count": 33,
   "metadata": {
    "tags": []
   },
   "outputs": [
    {
     "name": "stderr",
     "output_type": "stream",
     "text": [
      "100%|█████████████████████████████████████████████| 10/10 [00:35<00:00,  3.60s/it]\n"
     ]
    }
   ],
   "source": [
    "#adapted from https://amaru-ai.com/entry/2022/10/12/202559\n",
    "\n",
    "# lesson learned:\n",
    "# 1. use tqdm to show progress\n",
    "# 2. use logspace to cover wider range\n",
    "\n",
    "from tqdm import tqdm\n",
    "\n",
    "result = []\n",
    "\n",
    "for C in tqdm(np.logspace(-5, 4, 10, base=10)):\n",
    "    # モデルの学習\n",
    "    clf = LogisticRegression(random_state=123, max_iter=10000, C=C).fit(X, y)\n",
    "\n",
    "    # 正解率の算出\n",
    "    train_accuracy = accuracy_score(train['category'], get_prediction(train))\n",
    "    valid_accuracy = accuracy_score(valid['category'], get_prediction(valid))\n",
    "    test_accuracy = accuracy_score(test['category'], get_prediction(test))\n",
    "\n",
    "    # 結果の格納\n",
    "    result.append([C, train_accuracy, valid_accuracy, test_accuracy])\n",
    "\n",
    "result = np.array(result).T"
   ]
  },
  {
   "cell_type": "code",
   "execution_count": 34,
   "metadata": {
    "tags": []
   },
   "outputs": [
    {
     "data": {
      "image/png": "[encoded data removed]",
      "text/plain": [
       "<Figure size 640x480 with 1 Axes>"
      ]
     },
     "metadata": {},
     "output_type": "display_data"
    }
   ],
   "source": [
    "plt.plot(result[0], result[1], label='train')\n",
    "plt.plot(result[0], result[2], label='valid')\n",
    "plt.plot(result[0], result[3], label='test')\n",
    "plt.ylabel('Accuracy')\n",
    "plt.xscale ('log')\n",
    "plt.xlabel('C')\n",
    "plt.legend()\n",
    "plt.show()"
   ]
  },
  {
   "cell_type": "markdown",
   "metadata": {
    "id": "HKvr6nVy_m4H"
   },
   "source": [
    "## 59 ハイパーパラメータの探索\n",
    "学習アルゴリズムや学習パラメータを変えながら，カテゴリ分類モデルを学習せよ．検証データ上の正解率が最も高くなる学習アルゴリズム・パラメータを求めよ．また，その学習アルゴリズム・パラメータを用いたときの評価データ上の正解率を求めよ．"
   ]
  },
  {
   "cell_type": "code",
   "execution_count": 35,
   "metadata": {
    "tags": []
   },
   "outputs": [
    {
     "data": {
      "text/plain": [
       "0.9272863568215892"
      ]
     },
     "execution_count": 35,
     "metadata": {},
     "output_type": "execute_result"
    }
   ],
   "source": [
    "from sklearn.linear_model import LogisticRegressionCV\n",
    "\n",
    "lg = LogisticRegressionCV(max_iter=1000, random_state=42, cv=5)\n",
    "clf = lg.fit(X, y)\n",
    "prediction_valid = get_prediction(valid)\n",
    "accuracy_score(valid['category'], prediction_valid)"
   ]
  },
  {
   "cell_type": "code",
   "execution_count": 36,
   "metadata": {
    "tags": []
   },
   "outputs": [
    {
     "data": {
      "text/plain": [
       "0.9100449775112444"
      ]
     },
     "execution_count": 36,
     "metadata": {},
     "output_type": "execute_result"
    }
   ],
   "source": [
    "prediction_test = get_prediction(test)\n",
    "accuracy_score(test['category'], prediction_test)"
   ]
  },
  {
   "cell_type": "code",
   "execution_count": 13,
   "metadata": {
    "tags": []
   },
   "outputs": [],
   "source": [
    "#思った以上時間かかりそう...\n",
    "#Consider HalvingGridSearchCV, HalvingRandomSearchCV, optuna\n",
    "#cf. https://scikit-learn.org/stable/modules/grid_search.html#\n",
    "#cf. https://amaru-ai.com/entry/2022/10/12/202559\n",
    "\n",
    "from sklearn.model_selection import GridSearchCV\n",
    "from sklearn.preprocessing import MaxAbsScaler\n",
    "\n",
    "transformer = MaxAbsScaler().fit(X)\n",
    "X = transformer.transform(X)\n",
    "\n",
    "lg = LogisticRegression(max_iter=1000, random_state=42, penalty='elasticnet', solver='saga')\n",
    "parameters = {'l1_ratio': [0, 0.5, 1]}\n",
    "clf = GridSearchCV(lg, parameters)\n",
    "clf.fit(X, y)"
   ]
  },
  {
   "cell_type": "code",
   "execution_count": 68,
   "metadata": {
    "tags": []
   },
   "outputs": [
    {
     "name": "stderr",
     "output_type": "stream",
     "text": [
      "/Users/zhu/.pyenv/versions/anaconda3-2022.10/lib/python3.9/site-packages/sklearn/linear_model/_stochastic_gradient.py:702: ConvergenceWarning: Maximum number of iteration reached before convergence. Consider increasing max_iter to improve the fit.\n",
      "  warnings.warn(\n"
     ]
    }
   ],
   "source": [
    "from sklearn.datasets import load_iris\n",
    "from sklearn.linear_model import SGDClassifier\n",
    "\n",
    "X, y = load_iris(return_X_y=True)\n",
    "sgd1 = SGDClassifier(max_iter=1, random_state=42)\n",
    "clf1 = sgd1.fit(X, y)"
   ]
  },
  {
   "cell_type": "code",
   "execution_count": 69,
   "metadata": {
    "tags": []
   },
   "outputs": [],
   "source": [
    "sgd2 = SGDClassifier(random_state=42)\n",
    "clf2 = sgd2.partial_fit(X, y, classes=sgd1.classes_)"
   ]
  },
  {
   "cell_type": "code",
   "execution_count": 70,
   "metadata": {
    "tags": []
   },
   "outputs": [
    {
     "data": {
      "text/plain": [
       "0.0"
      ]
     },
     "execution_count": 70,
     "metadata": {},
     "output_type": "execute_result"
    }
   ],
   "source": [
    "np.abs(sgd1.coef_ - sgd2.coef_).max()"
   ]
  },
  {
   "cell_type": "code",
   "execution_count": null,
   "metadata": {},
   "outputs": [],
   "source": []
  }
 ],
 "metadata": {
  "colab": {
   "provenance": []
  },
  "kernelspec": {
   "display_name": "Python 3 (ipykernel)",
   "language": "python",
   "name": "python3"
  },
  "language_info": {
   "codemirror_mode": {
    "name": "ipython",
    "version": 3
   },
   "file_extension": ".py",
   "mimetype": "text/x-python",
   "name": "python",
   "nbconvert_exporter": "python",
   "pygments_lexer": "ipython3",
   "version": "3.9.13"
  }
 },
 "nbformat": 4,
 "nbformat_minor": 4
}
