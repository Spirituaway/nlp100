{
 "cells": [
  {
   "cell_type": "markdown",
   "id": "35f12835-eae4-47cb-b472-e9e3513c31d9",
   "metadata": {},
   "source": [
    "# 00. 文字列の逆順\n",
    "文字列”stressed”の文字を逆に（末尾から先頭に向かって）並べた文字列を得よ．"
   ]
  },
  {
   "cell_type": "code",
   "execution_count": 3,
   "id": "00d1a2a0-d77f-417e-85dd-3854c92d3ad6",
   "metadata": {},
   "outputs": [
    {
     "data": {
      "text/plain": [
       "'desserts'"
      ]
     },
     "execution_count": 3,
     "metadata": {},
     "output_type": "execute_result"
    }
   ],
   "source": [
    "'stressed'[::-1]"
   ]
  },
  {
   "cell_type": "markdown",
   "id": "0e1be0fd-dc76-4965-9594-8ff436f1c5e3",
   "metadata": {},
   "source": [
    "# 01. 「パタトクカシーー」\n",
    "「パタトクカシーー」という文字列の1,3,5,7文字目を取り出して連結した文字列を得よ．"
   ]
  },
  {
   "cell_type": "code",
   "execution_count": 4,
   "id": "6c7887a8-339a-474f-975d-b2b4a0c1b616",
   "metadata": {},
   "outputs": [
    {
     "data": {
      "text/plain": [
       "'パトカー'"
      ]
     },
     "execution_count": 4,
     "metadata": {},
     "output_type": "execute_result"
    }
   ],
   "source": [
    "\"パタトクカシーー\"[0:7:2]"
   ]
  },
  {
   "cell_type": "code",
   "execution_count": 5,
   "id": "2ee1397a-e14f-4119-ba98-fc55222dcc7d",
   "metadata": {},
   "outputs": [
    {
     "data": {
      "text/plain": [
       "'パトカー'"
      ]
     },
     "execution_count": 5,
     "metadata": {},
     "output_type": "execute_result"
    }
   ],
   "source": [
    "\"パタトクカシーー\"[::2]"
   ]
  },
  {
   "cell_type": "markdown",
   "id": "a08127b9-4c80-4a0c-9aaa-4fd76a5ba441",
   "metadata": {},
   "source": [
    "# 02. 「パトカー」＋「タクシー」＝「パタトクカシーー」\n",
    "「パトカー」＋「タクシー」の文字を先頭から交互に連結して文字列「パタトクカシーー」を得よ．"
   ]
  },
  {
   "cell_type": "code",
   "execution_count": 6,
   "id": "08379898-6c47-40db-a66f-751be101059b",
   "metadata": {},
   "outputs": [
    {
     "data": {
      "text/plain": [
       "'パタトクカシーー'"
      ]
     },
     "execution_count": 6,
     "metadata": {},
     "output_type": "execute_result"
    }
   ],
   "source": [
    "''.join([i + j for i, j in zip('パトカー', 'タクシー')])"
   ]
  },
  {
   "cell_type": "code",
   "execution_count": 18,
   "id": "b2e31517-183a-40cb-bfed-e6faeabef172",
   "metadata": {},
   "outputs": [
    {
     "data": {
      "text/plain": [
       "(('パ', 'タ', 'タ'), ('ト', 'ク', 'ク'), ('カ', 'シ', 'シ'), ('ー', 'ー', 'ー'))"
      ]
     },
     "execution_count": 18,
     "metadata": {},
     "output_type": "execute_result"
    }
   ],
   "source": [
    "tuple(zip('パトカー', 'タクシー','タクシー'))"
   ]
  },
  {
   "cell_type": "code",
   "execution_count": 25,
   "id": "5a6da1f5-a092-4f27-8104-5e45ec1d77f7",
   "metadata": {},
   "outputs": [
    {
     "data": {
      "text/plain": [
       "(('f', 'f', 'f'), ('l', 'l', 'l'), ('o', 'o', 'i'), ('w', 'w', 'g'))"
      ]
     },
     "execution_count": 25,
     "metadata": {},
     "output_type": "execute_result"
    }
   ],
   "source": [
    "tuple(zip(*['flower','flow','flight']))"
   ]
  },
  {
   "cell_type": "code",
   "execution_count": 26,
   "id": "a4632f06-57b8-41fe-bf7d-fdca6caf56a4",
   "metadata": {},
   "outputs": [
    {
     "data": {
      "text/plain": [
       "(('f', 'f', 'f'), ('l', 'l', 'l'), ('o', 'o', 'i'), ('w', 'w', 'g'))"
      ]
     },
     "execution_count": 26,
     "metadata": {},
     "output_type": "execute_result"
    }
   ],
   "source": [
    "tuple(zip('flower','flow','flight'))"
   ]
  },
  {
   "cell_type": "markdown",
   "id": "ca06ff3b-de01-4c57-a12e-b6b43173569b",
   "metadata": {},
   "source": [
    "# 03. 円周率\n",
    "“Now I need a drink, alcoholic of course, after the heavy lectures involving quantum mechanics.”という文を単語に分解し，各単語の（アルファベットの）文字数を先頭から出現順に並べたリストを作成せよ．"
   ]
  },
  {
   "cell_type": "code",
   "execution_count": 29,
   "id": "ef8c7b43-01d2-44b7-874e-5f394fd3a40b",
   "metadata": {},
   "outputs": [
    {
     "data": {
      "text/plain": [
       "[3, 1, 4, 1, 5, 9, 2, 6, 5, 3, 5, 8, 9, 7, 9]"
      ]
     },
     "execution_count": 29,
     "metadata": {},
     "output_type": "execute_result"
    }
   ],
   "source": [
    "[len(str.rstrip(',.')) for str in 'Now I need a drink, alcoholic of course, after the heavy lectures involving quantum mechanics.'.split(' ')]"
   ]
  },
  {
   "cell_type": "markdown",
   "id": "ccb92615-bf83-4939-9819-6b66bd4d4cdf",
   "metadata": {},
   "source": [
    "# 04. 元素記号\n",
    "“Hi He Lied Because Boron Could Not Oxidize Fluorine. New Nations Might Also Sign Peace Security Clause. Arthur King Can.”という文を単語に分解し，1, 5, 6, 7, 8, 9, 15, 16, 19番目の単語は先頭の1文字，それ以外の単語は先頭の2文字を取り出し，取り出した文字列から単語の位置（先頭から何番目の単語か）への連想配列（辞書型もしくはマップ型）を作成せよ．"
   ]
  },
  {
   "cell_type": "code",
   "execution_count": 49,
   "id": "c155db4b-5919-4b31-b3ac-9c02d3ddb096",
   "metadata": {},
   "outputs": [],
   "source": [
    "import re\n",
    "words = re.sub('[,\\.]', '', 'Hi He Lied Because Boron Could Not Oxidize Fluorine. New Nations Might Also Sign Peace Security Clause. Arthur King Can.').split()\n",
    "\n",
    "special_index = (1, 5, 6, 7, 8, 9, 15, 16, 19)\n",
    "result = {}\n",
    "\n",
    "for i, word in enumerate(words, 1):\n",
    "    if i in special_index:\n",
    "        result[word[0]] = i\n",
    "    else:\n",
    "        result[word[:2]] = i\n",
    "\n",
    "result"
   ]
  },
  {
   "cell_type": "markdown",
   "id": "87ff0daf-a98c-469c-b882-6dcf72cb3463",
   "metadata": {},
   "source": [
    "# 05. n-gram\n",
    "与えられたシーケンス（文字列やリストなど）からn-gramを作る関数を作成せよ．この関数を用い，”I am an NLPer”という文から単語bi-gram，文字bi-gramを得よ．"
   ]
  },
  {
   "cell_type": "code",
   "execution_count": 59,
   "id": "efe36faf-c7df-43f9-a150-caa1c80d642f",
   "metadata": {},
   "outputs": [
    {
     "data": {
      "text/plain": [
       "[('I', ' '),\n",
       " (' ', 'a'),\n",
       " ('a', 'm'),\n",
       " ('m', ' '),\n",
       " (' ', 'a'),\n",
       " ('a', 'n'),\n",
       " ('n', ' '),\n",
       " (' ', 'N'),\n",
       " ('N', 'L'),\n",
       " ('L', 'P'),\n",
       " ('P', 'e'),\n",
       " ('e', 'r')]"
      ]
     },
     "execution_count": 59,
     "metadata": {},
     "output_type": "execute_result"
    }
   ],
   "source": [
    "str = 'I am an NLPer'\n",
    "\n",
    "def ngram(n, lst):\n",
    "    return list(zip(*[lst[i:] for i in range(n)]))\n",
    "\n",
    "ngram(2, str)"
   ]
  },
  {
   "cell_type": "code",
   "execution_count": 60,
   "id": "6e020de0-d56f-44ee-9ee3-0d8e512a72d0",
   "metadata": {},
   "outputs": [
    {
     "data": {
      "text/plain": [
       "[('I', 'am'), ('am', 'an'), ('an', 'NLPer')]"
      ]
     },
     "execution_count": 60,
     "metadata": {},
     "output_type": "execute_result"
    }
   ],
   "source": [
    "ngram(2, str.split())"
   ]
  },
  {
   "cell_type": "markdown",
   "id": "2783f5de-49fc-4644-b736-a03b62e0e5e8",
   "metadata": {},
   "source": [
    "# 06. 集合\n",
    "“paraparaparadise”と”paragraph”に含まれる文字bi-gramの集合を，それぞれ, XとYとして求め，XとYの和集合，積集合，差集合を求めよ．さらに，’se’というbi-gramがXおよびYに含まれるかどうかを調べよ．"
   ]
  },
  {
   "cell_type": "code",
   "execution_count": 63,
   "id": "6bdc27f2-e62e-4089-8e25-052755fe2843",
   "metadata": {},
   "outputs": [
    {
     "data": {
      "text/plain": [
       "{('a', 'd'),\n",
       " ('a', 'p'),\n",
       " ('a', 'r'),\n",
       " ('d', 'i'),\n",
       " ('i', 's'),\n",
       " ('p', 'a'),\n",
       " ('r', 'a'),\n",
       " ('s', 'e')}"
      ]
     },
     "execution_count": 63,
     "metadata": {},
     "output_type": "execute_result"
    }
   ],
   "source": [
    "str1 = 'paraparaparadise'\n",
    "str2 = 'paragraph'\n",
    "\n",
    "X = set(ngram(2, str1))\n",
    "Y = set(ngram(2, str2))"
   ]
  },
  {
   "cell_type": "code",
   "execution_count": 66,
   "id": "db194051-c010-410d-8961-f08e2648b64a",
   "metadata": {},
   "outputs": [
    {
     "data": {
      "text/plain": [
       "{('a', 'd'),\n",
       " ('a', 'g'),\n",
       " ('a', 'p'),\n",
       " ('a', 'r'),\n",
       " ('d', 'i'),\n",
       " ('g', 'r'),\n",
       " ('i', 's'),\n",
       " ('p', 'a'),\n",
       " ('p', 'h'),\n",
       " ('r', 'a'),\n",
       " ('s', 'e')}"
      ]
     },
     "execution_count": 66,
     "metadata": {},
     "output_type": "execute_result"
    }
   ],
   "source": [
    "X|Y"
   ]
  },
  {
   "cell_type": "code",
   "execution_count": 67,
   "id": "7ca80edf-f065-43a9-8226-a4e65ee2f282",
   "metadata": {},
   "outputs": [
    {
     "data": {
      "text/plain": [
       "{('a', 'p'), ('a', 'r'), ('p', 'a'), ('r', 'a')}"
      ]
     },
     "execution_count": 67,
     "metadata": {},
     "output_type": "execute_result"
    }
   ],
   "source": [
    "X&Y"
   ]
  },
  {
   "cell_type": "code",
   "execution_count": 68,
   "id": "4156c2fa-8467-455f-aefe-0690b23c0c5c",
   "metadata": {},
   "outputs": [
    {
     "data": {
      "text/plain": [
       "{('a', 'd'), ('d', 'i'), ('i', 's'), ('s', 'e')}"
      ]
     },
     "execution_count": 68,
     "metadata": {},
     "output_type": "execute_result"
    }
   ],
   "source": [
    "X-Y"
   ]
  },
  {
   "cell_type": "code",
   "execution_count": 79,
   "id": "eeabb6ed-f811-4f51-ab63-35adf969ae47",
   "metadata": {},
   "outputs": [
    {
     "data": {
      "text/plain": [
       "True"
      ]
     },
     "execution_count": 79,
     "metadata": {},
     "output_type": "execute_result"
    }
   ],
   "source": [
    "tuple(i for i in 'se') in X"
   ]
  },
  {
   "cell_type": "code",
   "execution_count": 77,
   "id": "2647ddcc-32ff-409f-b687-82ad8b0b561f",
   "metadata": {},
   "outputs": [
    {
     "data": {
      "text/plain": [
       "False"
      ]
     },
     "execution_count": 77,
     "metadata": {},
     "output_type": "execute_result"
    }
   ],
   "source": [
    "tuple(i for i in 'se') in Y"
   ]
  },
  {
   "cell_type": "markdown",
   "id": "5122cdf0-fd62-4930-b676-6867a580f284",
   "metadata": {},
   "source": [
    "# 07. テンプレートによる文生成\n",
    "引数x, y, zを受け取り「x時のyはz」という文字列を返す関数を実装せよ．さらに，x=12, y=”気温”, z=22.4として，実行結果を確認せよ．"
   ]
  },
  {
   "cell_type": "code",
   "execution_count": 80,
   "id": "e205646a-0150-4ea3-8b06-22777751701c",
   "metadata": {},
   "outputs": [
    {
     "data": {
      "text/plain": [
       "'12時の気温は22.4'"
      ]
     },
     "execution_count": 80,
     "metadata": {},
     "output_type": "execute_result"
    }
   ],
   "source": [
    "def string_builder(x, y, z):\n",
    "    return f'{x}時の{y}は{z}'\n",
    "\n",
    "string_builder(12, '気温', 22.4)"
   ]
  },
  {
   "cell_type": "markdown",
   "id": "6cc38587-6b21-4b1b-8f7b-d17b5bb6daef",
   "metadata": {},
   "source": [
    "# 08. 暗号文\n",
    "与えられた文字列の各文字を，以下の仕様で変換する関数cipherを実装せよ．\n",
    "\n",
    "    英小文字ならば(219 - 文字コード)の文字に置換\n",
    "    その他の文字はそのまま出力\n",
    "\n",
    "この関数を用い，英語のメッセージを暗号化・復号化せよ．"
   ]
  },
  {
   "cell_type": "code",
   "execution_count": 104,
   "id": "c77f510f-e39f-44d4-a1e6-e179a843491b",
   "metadata": {},
   "outputs": [
    {
     "data": {
      "text/plain": [
       "\"Bvxzfhv gszg'h gsv dzb rg rh.\""
      ]
     },
     "execution_count": 104,
     "metadata": {},
     "output_type": "execute_result"
    }
   ],
   "source": [
    "def cipher(str):\n",
    "    return ''.join([chr(219 - ord(i)) if ord(i) >= ord('a') and ord(i) <= ord('z') else i for i in str])\n",
    "\n",
    "cipher(\"Because that's the way it is.\")"
   ]
  },
  {
   "cell_type": "markdown",
   "id": "5f31cab4-c483-47f5-af8c-5274a065ad59",
   "metadata": {},
   "source": [
    "# 09. Typoglycemia\n",
    "スペースで区切られた単語列に対して，各単語の先頭と末尾の文字は残し，それ以外の文字の順序をランダムに並び替えるプログラムを作成せよ．ただし，長さが４以下の単語は並び替えないこととする．適当な英語の文（例えば”I couldn’t believe that I could actually understand what I was reading : the phenomenal power of the human mind .”）を与え，その実行結果を確認せよ．"
   ]
  },
  {
   "cell_type": "code",
   "execution_count": 112,
   "id": "0f7f38e6-e1fb-4ec0-b9a2-933922729f2f",
   "metadata": {},
   "outputs": [],
   "source": [
    "import random\n",
    "\n",
    "str = 'I couldn’t believe that I could actually understand what I was reading : the phenomenal power of the human mind .'\n",
    "\n",
    "def typo(str):\n",
    "    if len(str)<=4:\n",
    "        return str\n",
    "    else:\n",
    "        lst = list(str[1:-1])\n",
    "        random.shuffle(lst)\n",
    "        return str[0] + ''.join(lst) + str[-1]"
   ]
  },
  {
   "cell_type": "code",
   "execution_count": 113,
   "id": "c5c09628-bd42-4ef4-89d6-5e6246661921",
   "metadata": {},
   "outputs": [
    {
     "data": {
      "text/plain": [
       "'I cduoln’t beelvie that I colud aullctay unsradtend what I was rideang : the peahenomnl pewor of the hmuan mind .'"
      ]
     },
     "execution_count": 113,
     "metadata": {},
     "output_type": "execute_result"
    }
   ],
   "source": [
    "' '.join([typo(i) for i in str.split()])"
   ]
  },
  {
   "cell_type": "code",
   "execution_count": null,
   "id": "07d1c8a6-c97b-4891-9443-cde99af0699f",
   "metadata": {},
   "outputs": [],
   "source": []
  }
 ],
 "metadata": {
  "kernelspec": {
   "display_name": "Python 3 (ipykernel)",
   "language": "python",
   "name": "python3"
  },
  "language_info": {
   "codemirror_mode": {
    "name": "ipython",
    "version": 3
   },
   "file_extension": ".py",
   "mimetype": "text/x-python",
   "name": "python",
   "nbconvert_exporter": "python",
   "pygments_lexer": "ipython3",
   "version": "3.10.2"
  }
 },
 "nbformat": 4,
 "nbformat_minor": 5
}
