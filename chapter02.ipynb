{
 "cells": [
  {
   "cell_type": "code",
   "execution_count": 3,
   "id": "d8e71e83-f437-4602-b245-7cc0443a8124",
   "metadata": {},
   "outputs": [],
   "source": [
    "file = 'popular-names.txt'\n",
    "\n",
    "import pandas as pd\n",
    "df = pd.read_csv(file, sep='\\t', header=None)"
   ]
  },
  {
   "cell_type": "code",
   "execution_count": 4,
   "id": "91b5bb6e-b232-4f6a-a505-fe8413365628",
   "metadata": {},
   "outputs": [],
   "source": [
    "with open('popular-names.txt', 'r') as file:\n",
    "    content = file.read()"
   ]
  },
  {
   "cell_type": "markdown",
   "id": "80e02b7e-8004-488a-b64b-a36347dd4b82",
   "metadata": {},
   "source": [
    "# 10. 行数のカウント\n",
    "行数をカウントせよ．確認にはwcコマンドを用いよ．"
   ]
  },
  {
   "cell_type": "code",
   "execution_count": 25,
   "id": "4bf2ddbc-94be-4816-be60-0ebab9623d2d",
   "metadata": {},
   "outputs": [
    {
     "data": {
      "text/plain": [
       "2780"
      ]
     },
     "execution_count": 25,
     "metadata": {},
     "output_type": "execute_result"
    }
   ],
   "source": [
    "df.shape[0]"
   ]
  },
  {
   "cell_type": "code",
   "execution_count": 29,
   "id": "06a12c05-3f7f-4140-a8aa-6b098d7ec9ab",
   "metadata": {},
   "outputs": [
    {
     "data": {
      "text/plain": [
       "2780"
      ]
     },
     "execution_count": 29,
     "metadata": {},
     "output_type": "execute_result"
    }
   ],
   "source": [
    "content.count('\\n')"
   ]
  },
  {
   "cell_type": "code",
   "execution_count": 30,
   "id": "c0de7f1a-6527-4f58-80ef-f203779dfe0e",
   "metadata": {},
   "outputs": [],
   "source": [
    "#wc -l popular-names.txt"
   ]
  },
  {
   "cell_type": "markdown",
   "id": "0a182130-63b0-4608-af98-e0a1761563c2",
   "metadata": {},
   "source": [
    "# 11. タブをスペースに置換\n",
    "タブ1文字につきスペース1文字に置換せよ．確認にはsedコマンド，trコマンド，もしくはexpandコマンドを用いよ．"
   ]
  },
  {
   "cell_type": "code",
   "execution_count": 18,
   "id": "3118505b-6192-4d0d-b7ee-80acbf523cb3",
   "metadata": {},
   "outputs": [],
   "source": [
    "df.to_csv('popular-names_space.txt', sep=' ', header=False, index=False)"
   ]
  },
  {
   "cell_type": "code",
   "execution_count": 28,
   "id": "f5c478a5-3cdb-4921-b574-ffb8901c9315",
   "metadata": {},
   "outputs": [],
   "source": [
    "with open('popular-names_space.txt', 'w') as file:\n",
    "    file.write(content.replace('\\t', ' '))"
   ]
  },
  {
   "cell_type": "code",
   "execution_count": 31,
   "id": "d09d77a9-7d7a-4dc8-8a27-147d99208fc0",
   "metadata": {},
   "outputs": [],
   "source": [
    "#sed -e 's/\\t/ /g' popular-names.txt\n",
    "#expand popular-names.txt --tabs=1 \n",
    "#cat popular-names.txt | tr \"\\t\" \" \""
   ]
  },
  {
   "cell_type": "markdown",
   "id": "292f91e0-11f2-445b-8ebb-b0b7f19e8d3c",
   "metadata": {},
   "source": [
    "# 12. 1列目をcol1.txtに，2列目をcol2.txtに保存\n",
    "各行の1列目だけを抜き出したものをcol1.txtに，2列目だけを抜き出したものをcol2.txtとしてファイルに保存せよ．確認にはcutコマンドを用いよ．"
   ]
  },
  {
   "cell_type": "code",
   "execution_count": 46,
   "id": "b321c12c-8b45-4515-a80b-8f511137969f",
   "metadata": {},
   "outputs": [],
   "source": [
    "df.to_csv('col1.txt', columns=[0], index=False, header=False)\n",
    "df.to_csv('col2.txt', columns=[1], index=False, header=False)"
   ]
  },
  {
   "cell_type": "code",
   "execution_count": 48,
   "id": "764339df-53cb-4462-a4d8-0f615742aca5",
   "metadata": {},
   "outputs": [],
   "source": [
    "col1 = ''\n",
    "col2 = ''\n",
    "\n",
    "with open('popular-names.txt', 'r') as file:\n",
    "    for line in file:\n",
    "        words = line.split()\n",
    "        col1 += (words[0] + '\\n')\n",
    "        col2 += (words[1] + '\\n')\n",
    "        \n",
    "with open('col1.txt', 'w') as file:\n",
    "    file.write(col1)\n",
    "\n",
    "with open('col2.txt', 'w') as file:\n",
    "    file.write(col2)"
   ]
  },
  {
   "cell_type": "code",
   "execution_count": 51,
   "id": "b731306d-ed07-476b-8c11-362577ed22ba",
   "metadata": {},
   "outputs": [],
   "source": [
    "#cut -f 1 popular-names.txt\n",
    "#cut -f 2 popular-names.txt"
   ]
  },
  {
   "cell_type": "markdown",
   "id": "5d5c4614-29c3-4d15-be85-3198503a6d16",
   "metadata": {},
   "source": [
    "# 13. col1.txtとcol2.txtをマージ\n",
    "12で作ったcol1.txtとcol2.txtを結合し，元のファイルの1列目と2列目をタブ区切りで並べたテキストファイルを作成せよ．確認にはpasteコマンドを用いよ．"
   ]
  },
  {
   "cell_type": "code",
   "execution_count": 55,
   "id": "70f6f218-85db-45cc-b9c1-3786581aa59a",
   "metadata": {},
   "outputs": [],
   "source": [
    "df1 = pd.read_csv('col1.txt', header=None)\n",
    "df2 = pd.read_csv('col2.txt', header=None)\n",
    "\n",
    "pd.concat([df1, df2], axis=1).to_csv('col.txt', index=False, header=False, sep='\\t')"
   ]
  },
  {
   "cell_type": "code",
   "execution_count": 72,
   "id": "57c3a4a6-201a-44c5-ac37-0548cf19b2d6",
   "metadata": {},
   "outputs": [],
   "source": [
    "with open('col1.txt', 'r') as f1:\n",
    "    l1 = f1.readlines()\n",
    "    \n",
    "with open('col2.txt', 'r') as f2:\n",
    "    l2 = f2.readlines()\n",
    "\n",
    "l = ''\n",
    "for w1, w2 in zip(l1, l2):\n",
    "    l += (w1.rstrip() + '\\t' + w2.rstrip() + '\\n')\n",
    "    \n",
    "with open('col.txt', 'w') as f:\n",
    "    f.write(l)"
   ]
  },
  {
   "cell_type": "code",
   "execution_count": 73,
   "id": "17fa67df-803c-4da4-b5ce-7fe47ebbaeac",
   "metadata": {},
   "outputs": [],
   "source": [
    "#paste col1.txt col2.txt"
   ]
  },
  {
   "cell_type": "markdown",
   "id": "86e6e341-0db9-4b66-b170-85e5299b5240",
   "metadata": {},
   "source": [
    "# 14. 先頭からN行を出力\n",
    "自然数Nをコマンドライン引数などの手段で受け取り，入力のうち先頭のN行だけを表示せよ．確認にはheadコマンドを用いよ．"
   ]
  },
  {
   "cell_type": "code",
   "execution_count": 80,
   "id": "63c05b31-152d-48e1-acbc-c64c4d500a5b",
   "metadata": {},
   "outputs": [
    {
     "name": "stdout",
     "output_type": "stream",
     "text": [
      "Mary\tF\t7065\t1880\n",
      "Anna\tF\t2604\t1880\n",
      "Emma\tF\t2003\t1880\n",
      "Elizabeth\tF\t1939\t1880\n",
      "Minnie\tF\t1746\t1880\n",
      "Margaret\tF\t1578\t1880\n",
      "Ida\tF\t1472\t1880\n",
      "Alice\tF\t1414\t1880\n",
      "Bertha\tF\t1320\t1880\n",
      "Sarah\tF\t1288\t1880\n",
      "\n"
     ]
    }
   ],
   "source": [
    "print(df[:10].to_csv(sep='\\t', index=False, header=False))"
   ]
  },
  {
   "cell_type": "code",
   "execution_count": 79,
   "id": "c6ad4c2c-09e1-415f-b191-8c3070626d6a",
   "metadata": {},
   "outputs": [
    {
     "name": "stdout",
     "output_type": "stream",
     "text": [
      "Mary\tF\t7065\t1880\n",
      "Anna\tF\t2604\t1880\n",
      "Emma\tF\t2003\t1880\n",
      "Elizabeth\tF\t1939\t1880\n",
      "Minnie\tF\t1746\t1880\n",
      "Margaret\tF\t1578\t1880\n",
      "Ida\tF\t1472\t1880\n",
      "Alice\tF\t1414\t1880\n",
      "Bertha\tF\t1320\t1880\n",
      "Sarah\tF\t1288\t1880\n"
     ]
    }
   ],
   "source": [
    "print('\\n'.join(content.split('\\n')[:10]))"
   ]
  },
  {
   "cell_type": "code",
   "execution_count": 1,
   "id": "d45531fb-0245-4261-9db0-2c5c556eaad5",
   "metadata": {},
   "outputs": [],
   "source": [
    "#cat popular_names.txt | head -n 10"
   ]
  },
  {
   "cell_type": "markdown",
   "id": "d12bdb32-532d-42be-ba6e-aba4f21958aa",
   "metadata": {},
   "source": [
    "# 15. 末尾のN行を出力\n",
    "自然数Nをコマンドライン引数などの手段で受け取り，入力のうち末尾のN行だけを表示せよ．確認にはtailコマンドを用いよ．"
   ]
  },
  {
   "cell_type": "code",
   "execution_count": 5,
   "id": "285e1128-507a-4af3-ba0a-ee2722e8c164",
   "metadata": {},
   "outputs": [
    {
     "name": "stdout",
     "output_type": "stream",
     "text": [
      "Liam\tM\t19837\t2018\n",
      "Noah\tM\t18267\t2018\n",
      "William\tM\t14516\t2018\n",
      "James\tM\t13525\t2018\n",
      "Oliver\tM\t13389\t2018\n",
      "Benjamin\tM\t13381\t2018\n",
      "Elijah\tM\t12886\t2018\n",
      "Lucas\tM\t12585\t2018\n",
      "Mason\tM\t12435\t2018\n",
      "Logan\tM\t12352\t2018\n",
      "\n"
     ]
    }
   ],
   "source": [
    "print(df[-10:].to_csv(sep='\\t', index=False, header=False))"
   ]
  },
  {
   "cell_type": "code",
   "execution_count": 7,
   "id": "f8f41300-9bd0-4acb-8341-f20740604915",
   "metadata": {},
   "outputs": [
    {
     "name": "stdout",
     "output_type": "stream",
     "text": [
      "Liam\tM\t19837\t2018\n",
      "Noah\tM\t18267\t2018\n",
      "William\tM\t14516\t2018\n",
      "James\tM\t13525\t2018\n",
      "Oliver\tM\t13389\t2018\n",
      "Benjamin\tM\t13381\t2018\n",
      "Elijah\tM\t12886\t2018\n",
      "Lucas\tM\t12585\t2018\n",
      "Mason\tM\t12435\t2018\n",
      "Logan\tM\t12352\t2018\n",
      "\n"
     ]
    }
   ],
   "source": [
    "print('\\n'.join(content.split('\\n')[-11:]))"
   ]
  },
  {
   "cell_type": "code",
   "execution_count": 10,
   "id": "3a798fc3-718d-4203-8033-b8c54c11dd06",
   "metadata": {},
   "outputs": [],
   "source": [
    "#cat popular_names.txt | tail -n 10"
   ]
  },
  {
   "cell_type": "markdown",
   "id": "ceeee5c5-1d95-40ad-ab7d-16c5506cee2a",
   "metadata": {},
   "source": [
    "# 16. ファイルをN分割する\n",
    "自然数Nをコマンドライン引数などの手段で受け取り，入力のファイルを行単位でN分割せよ．同様の処理をsplitコマンドで実現せよ．"
   ]
  },
  {
   "cell_type": "code",
   "execution_count": 68,
   "id": "e167350b-ce98-439f-b5b2-cadfc5f7025d",
   "metadata": {},
   "outputs": [
    {
     "data": {
      "text/html": [
       "<div>\n",
       "<style scoped>\n",
       "    .dataframe tbody tr th:only-of-type {\n",
       "        vertical-align: middle;\n",
       "    }\n",
       "\n",
       "    .dataframe tbody tr th {\n",
       "        vertical-align: top;\n",
       "    }\n",
       "\n",
       "    .dataframe thead th {\n",
       "        text-align: right;\n",
       "    }\n",
       "</style>\n",
       "<table border=\"1\" class=\"dataframe\">\n",
       "  <thead>\n",
       "    <tr style=\"text-align: right;\">\n",
       "      <th></th>\n",
       "      <th>0</th>\n",
       "      <th>1</th>\n",
       "      <th>2</th>\n",
       "      <th>3</th>\n",
       "      <th>flag</th>\n",
       "    </tr>\n",
       "  </thead>\n",
       "  <tbody>\n",
       "    <tr>\n",
       "      <th>0</th>\n",
       "      <td>Mary</td>\n",
       "      <td>F</td>\n",
       "      <td>7065</td>\n",
       "      <td>1880</td>\n",
       "      <td>0</td>\n",
       "    </tr>\n",
       "    <tr>\n",
       "      <th>1</th>\n",
       "      <td>Anna</td>\n",
       "      <td>F</td>\n",
       "      <td>2604</td>\n",
       "      <td>1880</td>\n",
       "      <td>0</td>\n",
       "    </tr>\n",
       "    <tr>\n",
       "      <th>2</th>\n",
       "      <td>Emma</td>\n",
       "      <td>F</td>\n",
       "      <td>2003</td>\n",
       "      <td>1880</td>\n",
       "      <td>0</td>\n",
       "    </tr>\n",
       "    <tr>\n",
       "      <th>3</th>\n",
       "      <td>Elizabeth</td>\n",
       "      <td>F</td>\n",
       "      <td>1939</td>\n",
       "      <td>1880</td>\n",
       "      <td>0</td>\n",
       "    </tr>\n",
       "    <tr>\n",
       "      <th>4</th>\n",
       "      <td>Minnie</td>\n",
       "      <td>F</td>\n",
       "      <td>1746</td>\n",
       "      <td>1880</td>\n",
       "      <td>0</td>\n",
       "    </tr>\n",
       "    <tr>\n",
       "      <th>...</th>\n",
       "      <td>...</td>\n",
       "      <td>...</td>\n",
       "      <td>...</td>\n",
       "      <td>...</td>\n",
       "      <td>...</td>\n",
       "    </tr>\n",
       "    <tr>\n",
       "      <th>2775</th>\n",
       "      <td>Benjamin</td>\n",
       "      <td>M</td>\n",
       "      <td>13381</td>\n",
       "      <td>2018</td>\n",
       "      <td>10</td>\n",
       "    </tr>\n",
       "    <tr>\n",
       "      <th>2776</th>\n",
       "      <td>Elijah</td>\n",
       "      <td>M</td>\n",
       "      <td>12886</td>\n",
       "      <td>2018</td>\n",
       "      <td>10</td>\n",
       "    </tr>\n",
       "    <tr>\n",
       "      <th>2777</th>\n",
       "      <td>Lucas</td>\n",
       "      <td>M</td>\n",
       "      <td>12585</td>\n",
       "      <td>2018</td>\n",
       "      <td>10</td>\n",
       "    </tr>\n",
       "    <tr>\n",
       "      <th>2778</th>\n",
       "      <td>Mason</td>\n",
       "      <td>M</td>\n",
       "      <td>12435</td>\n",
       "      <td>2018</td>\n",
       "      <td>10</td>\n",
       "    </tr>\n",
       "    <tr>\n",
       "      <th>2779</th>\n",
       "      <td>Logan</td>\n",
       "      <td>M</td>\n",
       "      <td>12352</td>\n",
       "      <td>2018</td>\n",
       "      <td>10</td>\n",
       "    </tr>\n",
       "  </tbody>\n",
       "</table>\n",
       "<p>2780 rows × 5 columns</p>\n",
       "</div>"
      ],
      "text/plain": [
       "              0  1      2     3 flag\n",
       "0          Mary  F   7065  1880    0\n",
       "1          Anna  F   2604  1880    0\n",
       "2          Emma  F   2003  1880    0\n",
       "3     Elizabeth  F   1939  1880    0\n",
       "4        Minnie  F   1746  1880    0\n",
       "...         ... ..    ...   ...  ...\n",
       "2775   Benjamin  M  13381  2018   10\n",
       "2776     Elijah  M  12886  2018   10\n",
       "2777      Lucas  M  12585  2018   10\n",
       "2778      Mason  M  12435  2018   10\n",
       "2779      Logan  M  12352  2018   10\n",
       "\n",
       "[2780 rows x 5 columns]"
      ]
     },
     "execution_count": 68,
     "metadata": {},
     "output_type": "execute_result"
    }
   ],
   "source": [
    "N = 11\n",
    "df_tmp = df.copy()\n",
    "df_tmp['flag'] = pd.qcut(df_tmp.index, N, labels = list(range(N)))\n",
    "df_tmp"
   ]
  },
  {
   "cell_type": "code",
   "execution_count": 69,
   "id": "2f76d9cf-597e-4193-8ef7-bf29571cfdf9",
   "metadata": {},
   "outputs": [],
   "source": [
    "#split -l 1000 popular-names.txt --verbose\n",
    "#split -n 3 popular-names.txt --verbose"
   ]
  },
  {
   "cell_type": "markdown",
   "id": "d2680bf5-034b-4b35-aa25-c3c73543b26c",
   "metadata": {},
   "source": [
    "# 17. １列目の文字列の異なり\n",
    "1列目の文字列の種類（異なる文字列の集合）を求めよ．確認にはcut, sort, uniqコマンドを用いよ．"
   ]
  },
  {
   "cell_type": "code",
   "execution_count": 78,
   "id": "d916b9c9-935e-443a-948c-4a5aa2746a5d",
   "metadata": {},
   "outputs": [
    {
     "data": {
      "text/plain": [
       "136"
      ]
     },
     "execution_count": 78,
     "metadata": {},
     "output_type": "execute_result"
    }
   ],
   "source": [
    "len(set(df[0]))"
   ]
  },
  {
   "cell_type": "code",
   "execution_count": 79,
   "id": "2431b16d-b806-4bd8-b942-32cdb080da86",
   "metadata": {},
   "outputs": [],
   "source": [
    "#cut -f 1 popular-names.txt | sort | uniq | wc"
   ]
  },
  {
   "cell_type": "markdown",
   "id": "f18c9d05-41c3-4c20-b4bf-2c1ce9fc0e83",
   "metadata": {},
   "source": [
    "# 18. 各行を3コラム目の数値の降順にソート\n",
    "各行を3コラム目の数値の逆順で整列せよ（注意: 各行の内容は変更せずに並び替えよ）．確認にはsortコマンドを用いよ（この問題はコマンドで実行した時の結果と合わなくてもよい）．"
   ]
  },
  {
   "cell_type": "code",
   "execution_count": 85,
   "id": "26d0fabf-9f7f-464a-a363-701f99d35a5b",
   "metadata": {},
   "outputs": [
    {
     "data": {
      "text/html": [
       "<div>\n",
       "<style scoped>\n",
       "    .dataframe tbody tr th:only-of-type {\n",
       "        vertical-align: middle;\n",
       "    }\n",
       "\n",
       "    .dataframe tbody tr th {\n",
       "        vertical-align: top;\n",
       "    }\n",
       "\n",
       "    .dataframe thead th {\n",
       "        text-align: right;\n",
       "    }\n",
       "</style>\n",
       "<table border=\"1\" class=\"dataframe\">\n",
       "  <thead>\n",
       "    <tr style=\"text-align: right;\">\n",
       "      <th></th>\n",
       "      <th>0</th>\n",
       "      <th>1</th>\n",
       "      <th>2</th>\n",
       "      <th>3</th>\n",
       "    </tr>\n",
       "  </thead>\n",
       "  <tbody>\n",
       "    <tr>\n",
       "      <th>1340</th>\n",
       "      <td>Linda</td>\n",
       "      <td>F</td>\n",
       "      <td>99689</td>\n",
       "      <td>1947</td>\n",
       "    </tr>\n",
       "    <tr>\n",
       "      <th>1360</th>\n",
       "      <td>Linda</td>\n",
       "      <td>F</td>\n",
       "      <td>96211</td>\n",
       "      <td>1948</td>\n",
       "    </tr>\n",
       "    <tr>\n",
       "      <th>1350</th>\n",
       "      <td>James</td>\n",
       "      <td>M</td>\n",
       "      <td>94757</td>\n",
       "      <td>1947</td>\n",
       "    </tr>\n",
       "    <tr>\n",
       "      <th>1550</th>\n",
       "      <td>Michael</td>\n",
       "      <td>M</td>\n",
       "      <td>92704</td>\n",
       "      <td>1957</td>\n",
       "    </tr>\n",
       "    <tr>\n",
       "      <th>1351</th>\n",
       "      <td>Robert</td>\n",
       "      <td>M</td>\n",
       "      <td>91640</td>\n",
       "      <td>1947</td>\n",
       "    </tr>\n",
       "    <tr>\n",
       "      <th>...</th>\n",
       "      <td>...</td>\n",
       "      <td>...</td>\n",
       "      <td>...</td>\n",
       "      <td>...</td>\n",
       "    </tr>\n",
       "    <tr>\n",
       "      <th>27</th>\n",
       "      <td>Annie</td>\n",
       "      <td>F</td>\n",
       "      <td>1326</td>\n",
       "      <td>1881</td>\n",
       "    </tr>\n",
       "    <tr>\n",
       "      <th>28</th>\n",
       "      <td>Bertha</td>\n",
       "      <td>F</td>\n",
       "      <td>1324</td>\n",
       "      <td>1881</td>\n",
       "    </tr>\n",
       "    <tr>\n",
       "      <th>8</th>\n",
       "      <td>Bertha</td>\n",
       "      <td>F</td>\n",
       "      <td>1320</td>\n",
       "      <td>1880</td>\n",
       "    </tr>\n",
       "    <tr>\n",
       "      <th>29</th>\n",
       "      <td>Alice</td>\n",
       "      <td>F</td>\n",
       "      <td>1308</td>\n",
       "      <td>1881</td>\n",
       "    </tr>\n",
       "    <tr>\n",
       "      <th>9</th>\n",
       "      <td>Sarah</td>\n",
       "      <td>F</td>\n",
       "      <td>1288</td>\n",
       "      <td>1880</td>\n",
       "    </tr>\n",
       "  </tbody>\n",
       "</table>\n",
       "<p>2780 rows × 4 columns</p>\n",
       "</div>"
      ],
      "text/plain": [
       "            0  1      2     3\n",
       "1340    Linda  F  99689  1947\n",
       "1360    Linda  F  96211  1948\n",
       "1350    James  M  94757  1947\n",
       "1550  Michael  M  92704  1957\n",
       "1351   Robert  M  91640  1947\n",
       "...       ... ..    ...   ...\n",
       "27      Annie  F   1326  1881\n",
       "28     Bertha  F   1324  1881\n",
       "8      Bertha  F   1320  1880\n",
       "29      Alice  F   1308  1881\n",
       "9       Sarah  F   1288  1880\n",
       "\n",
       "[2780 rows x 4 columns]"
      ]
     },
     "execution_count": 85,
     "metadata": {},
     "output_type": "execute_result"
    }
   ],
   "source": [
    "df.sort_values(by=[2], ascending=False)"
   ]
  },
  {
   "cell_type": "code",
   "execution_count": 86,
   "id": "f00f9d77-1160-492b-ad3d-63d3abc86ffd",
   "metadata": {},
   "outputs": [],
   "source": [
    "#sort -nrk 3 popular-names.txt"
   ]
  },
  {
   "cell_type": "markdown",
   "id": "280beea9-586b-4cc3-aba3-5fa9a318e45f",
   "metadata": {},
   "source": [
    "# 19. 各行の1コラム目の文字列の出現頻度を求め，出現頻度の高い順に並べる\n",
    "各行の1列目の文字列の出現頻度を求め，その高い順に並べて表示せよ．確認にはcut, uniq, sortコマンドを用いよ．"
   ]
  },
  {
   "cell_type": "code",
   "execution_count": 102,
   "id": "402cd1a2-5ab7-466c-ab5e-260ac7f92a2d",
   "metadata": {},
   "outputs": [
    {
     "data": {
      "text/html": [
       "<div>\n",
       "<style scoped>\n",
       "    .dataframe tbody tr th:only-of-type {\n",
       "        vertical-align: middle;\n",
       "    }\n",
       "\n",
       "    .dataframe tbody tr th {\n",
       "        vertical-align: top;\n",
       "    }\n",
       "\n",
       "    .dataframe thead th {\n",
       "        text-align: right;\n",
       "    }\n",
       "</style>\n",
       "<table border=\"1\" class=\"dataframe\">\n",
       "  <thead>\n",
       "    <tr style=\"text-align: right;\">\n",
       "      <th></th>\n",
       "      <th>2</th>\n",
       "      <th>3</th>\n",
       "      <th>counter</th>\n",
       "    </tr>\n",
       "    <tr>\n",
       "      <th>0</th>\n",
       "      <th></th>\n",
       "      <th></th>\n",
       "      <th></th>\n",
       "    </tr>\n",
       "  </thead>\n",
       "  <tbody>\n",
       "    <tr>\n",
       "      <th>James</th>\n",
       "      <td>4793512</td>\n",
       "      <td>228848</td>\n",
       "      <td>118</td>\n",
       "    </tr>\n",
       "    <tr>\n",
       "      <th>William</th>\n",
       "      <td>3473354</td>\n",
       "      <td>215201</td>\n",
       "      <td>111</td>\n",
       "    </tr>\n",
       "    <tr>\n",
       "      <th>Robert</th>\n",
       "      <td>4446240</td>\n",
       "      <td>209027</td>\n",
       "      <td>108</td>\n",
       "    </tr>\n",
       "    <tr>\n",
       "      <th>John</th>\n",
       "      <td>4569204</td>\n",
       "      <td>208822</td>\n",
       "      <td>108</td>\n",
       "    </tr>\n",
       "    <tr>\n",
       "      <th>Mary</th>\n",
       "      <td>3794381</td>\n",
       "      <td>177146</td>\n",
       "      <td>92</td>\n",
       "    </tr>\n",
       "    <tr>\n",
       "      <th>...</th>\n",
       "      <td>...</td>\n",
       "      <td>...</td>\n",
       "      <td>...</td>\n",
       "    </tr>\n",
       "    <tr>\n",
       "      <th>Laura</th>\n",
       "      <td>17920</td>\n",
       "      <td>1969</td>\n",
       "      <td>1</td>\n",
       "    </tr>\n",
       "    <tr>\n",
       "      <th>Tracy</th>\n",
       "      <td>18468</td>\n",
       "      <td>1970</td>\n",
       "      <td>1</td>\n",
       "    </tr>\n",
       "    <tr>\n",
       "      <th>Carolyn</th>\n",
       "      <td>19979</td>\n",
       "      <td>1942</td>\n",
       "      <td>1</td>\n",
       "    </tr>\n",
       "    <tr>\n",
       "      <th>Kelly</th>\n",
       "      <td>18235</td>\n",
       "      <td>1977</td>\n",
       "      <td>1</td>\n",
       "    </tr>\n",
       "    <tr>\n",
       "      <th>Walter</th>\n",
       "      <td>8962</td>\n",
       "      <td>1914</td>\n",
       "      <td>1</td>\n",
       "    </tr>\n",
       "  </tbody>\n",
       "</table>\n",
       "<p>136 rows × 3 columns</p>\n",
       "</div>"
      ],
      "text/plain": [
       "               2       3  counter\n",
       "0                                \n",
       "James    4793512  228848      118\n",
       "William  3473354  215201      111\n",
       "Robert   4446240  209027      108\n",
       "John     4569204  208822      108\n",
       "Mary     3794381  177146       92\n",
       "...          ...     ...      ...\n",
       "Laura      17920    1969        1\n",
       "Tracy      18468    1970        1\n",
       "Carolyn    19979    1942        1\n",
       "Kelly      18235    1977        1\n",
       "Walter      8962    1914        1\n",
       "\n",
       "[136 rows x 3 columns]"
      ]
     },
     "execution_count": 102,
     "metadata": {},
     "output_type": "execute_result"
    }
   ],
   "source": [
    "df_tmp = df.copy()\n",
    "df_tmp['counter'] = 1\n",
    "df_tmp.sort_values(by=[0]).groupby([0]).sum().sort_values(by=['counter'], ascending=False)"
   ]
  },
  {
   "cell_type": "code",
   "execution_count": 103,
   "id": "7c5b1515-84bc-4d33-8ca8-8a2d732b3e57",
   "metadata": {},
   "outputs": [
    {
     "data": {
      "text/plain": [
       "James      118\n",
       "William    111\n",
       "Robert     108\n",
       "John       108\n",
       "Mary        92\n",
       "          ... \n",
       "Scott        1\n",
       "Rachel       1\n",
       "Kelly        1\n",
       "Crystal      1\n",
       "Lucas        1\n",
       "Name: 0, Length: 136, dtype: int64"
      ]
     },
     "execution_count": 103,
     "metadata": {},
     "output_type": "execute_result"
    }
   ],
   "source": [
    "df[0].value_counts()"
   ]
  },
  {
   "cell_type": "code",
   "execution_count": null,
   "id": "b73c851b-400b-4a12-93a2-58723d4c479e",
   "metadata": {},
   "outputs": [],
   "source": [
    "#cut -f 1 popular-names.txt | sort | uniq -c | sort -nrk 1"
   ]
  }
 ],
 "metadata": {
  "kernelspec": {
   "display_name": "Python 3 (ipykernel)",
   "language": "python",
   "name": "python3"
  },
  "language_info": {
   "codemirror_mode": {
    "name": "ipython",
    "version": 3
   },
   "file_extension": ".py",
   "mimetype": "text/x-python",
   "name": "python",
   "nbconvert_exporter": "python",
   "pygments_lexer": "ipython3",
   "version": "3.10.2"
  }
 },
 "nbformat": 4,
 "nbformat_minor": 5
}
