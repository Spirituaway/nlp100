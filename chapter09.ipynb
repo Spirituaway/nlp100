{
 "cells": [
  {
   "cell_type": "markdown",
   "metadata": {
    "id": "NjMZ4EhSToTM"
   },
   "source": [
    "# 第9章: RNNとCNN\n",
    "*深層学習フレームワークを用い，再帰型ニューラルネットワーク（RNN）や畳み込みニューラルネットワーク（CNN）を実装します*"
   ]
  },
  {
   "cell_type": "markdown",
   "metadata": {
    "id": "ZaFViOS5TsYG"
   },
   "source": [
    "## 80 ID番号への変換"
   ]
  },
  {
   "cell_type": "code",
   "execution_count": 1,
   "metadata": {
    "id": "m6wpoQzCsC6K",
    "tags": []
   },
   "outputs": [],
   "source": [
    "import numpy as np\n",
    "import pandas as pd\n",
    "\n",
    "df = pd.read_csv('newsCorpora.csv', sep='\\t', quoting=3, names=('id','title','url','publisher','category','story','hostname','timestamp'))\n",
    "df = df.loc[df['publisher'].isin(['Reuters', 'Huffington Post', 'Businessweek', 'Contactmusic.com', 'Daily Mail'])]\n",
    "\n",
    "df = df.sample(frac=1)\n",
    "\n",
    "ratio_train, ratio_valid = 0.8, 0.1\n",
    "n_train, n_valid = (np.array([ratio_train, ratio_valid]) * len(df)).astype(int)\n",
    "\n",
    "train = df.iloc[:n_train]\n",
    "valid = df.iloc[n_train:n_train+n_valid]\n",
    "test = df.iloc[n_train+n_valid:]\n",
    "\n",
    "train.to_csv('train.csv', index=False, sep='\\t')\n",
    "valid.to_csv('valid.csv', index=False, sep='\\t')\n",
    "test.to_csv('test.csv', index=False, sep='\\t')"
   ]
  },
  {
   "cell_type": "code",
   "execution_count": 1,
   "metadata": {
    "tags": []
   },
   "outputs": [],
   "source": [
    "import numpy as np\n",
    "import pandas as pd\n",
    "from spacy.lang.en import English\n",
    "\n",
    "train = pd.read_csv('train.csv', sep='\\t', quoting=3)\n",
    "valid = pd.read_csv('valid.csv', sep='\\t', quoting=3)\n",
    "test = pd.read_csv('test.csv', sep='\\t', quoting=3)"
   ]
  },
  {
   "cell_type": "code",
   "execution_count": 1,
   "metadata": {
    "tags": []
   },
   "outputs": [],
   "source": [
    "tokenizer = English().tokenizer\n",
    "\n",
    "counts = dict()\n",
    "\n",
    "for title in train.title:\n",
    "    for token in tokenizer(title):\n",
    "        text = token.text\n",
    "        counts[text] = counts.get(text, 0) + 1\n",
    "        \n",
    "counts = sorted(counts.items(), key=lambda item:item[1], reverse=True)\n",
    "word_list = []\n",
    "\n",
    "for word, count in counts:\n",
    "    if count > 1:\n",
    "        word_list.append(word)\n",
    "    else:\n",
    "        break\n",
    "        \n",
    "counts = {word:count+1 for count,word in enumerate(word_list)}"
   ]
  },
  {
   "cell_type": "code",
   "execution_count": 2,
   "metadata": {
    "tags": []
   },
   "outputs": [],
   "source": [
    "def title_to_ids(title):\n",
    "    output = []\n",
    "    for word in tokenizer(title):\n",
    "        output.append(counts.get(word.text, 0))\n",
    "    return np.array(output)"
   ]
  },
  {
   "cell_type": "code",
   "execution_count": 3,
   "metadata": {
    "tags": []
   },
   "outputs": [
    {
     "data": {
      "text/plain": [
       "array([1372,    1,    0])"
      ]
     },
     "execution_count": 3,
     "metadata": {},
     "output_type": "execute_result"
    }
   ],
   "source": [
    "#test\n",
    "\n",
    "title_to_ids('good - 0000')"
   ]
  },
  {
   "cell_type": "markdown",
   "metadata": {
    "id": "qUce1lnwWLhY"
   },
   "source": [
    "## 81 RNNによる予測"
   ]
  },
  {
   "cell_type": "code",
   "execution_count": 4,
   "metadata": {
    "id": "V_8N0JbQsDnT"
   },
   "outputs": [],
   "source": [
    "import torch\n",
    "from torch import nn\n",
    "import torch.nn.functional as F\n",
    "\n",
    "n_words = len(counts)+1\n",
    "\n",
    "class Net(nn.Module):\n",
    "    def __init__(self):\n",
    "        super(Net, self).__init__()\n",
    "        self.fc0 = nn.Embedding(n_words, 300, dtype=torch.float64)\n",
    "        self.fc1 = nn.RNN(300, 50, dtype=torch.float64, batch_first=True)\n",
    "        self.fc2 = nn.Linear(50, 4, dtype=torch.float64)\n",
    "        \n",
    "    def forward(self, x):\n",
    "        x = self.fc0(x)\n",
    "        x = self.fc1(x)\n",
    "        x = self.fc2(x[1][0])\n",
    "        return x\n",
    "\n",
    "torch.manual_seed(42)\n",
    "model = Net()"
   ]
  },
  {
   "cell_type": "code",
   "execution_count": 5,
   "metadata": {
    "id": "V_8N0JbQsDnT"
   },
   "outputs": [
    {
     "data": {
      "text/plain": [
       "tensor([   8,  722, 2654,  723,   82,   76, 5191,  764,    8,    8,   17, 6699,\n",
       "        6700,    8,    8,   35,    6,    5,    8])"
      ]
     },
     "execution_count": 5,
     "metadata": {},
     "output_type": "execute_result"
    }
   ],
   "source": [
    "ids = title_to_ids(train.title.values[0])\n",
    "ids = torch.from_numpy(ids)\n",
    "ids"
   ]
  },
  {
   "cell_type": "code",
   "execution_count": 6,
   "metadata": {
    "id": "V_8N0JbQsDnT"
   },
   "outputs": [
    {
     "data": {
      "text/plain": [
       "tensor([ 0.6928, -0.6254,  0.6959, -0.1205], dtype=torch.float64,\n",
       "       grad_fn=<AddBackward0>)"
      ]
     },
     "execution_count": 6,
     "metadata": {},
     "output_type": "execute_result"
    }
   ],
   "source": [
    "model(ids)"
   ]
  },
  {
   "cell_type": "code",
   "execution_count": 7,
   "metadata": {
    "tags": []
   },
   "outputs": [
    {
     "data": {
      "text/plain": [
       "tensor([0.3684, 0.0986, 0.3696, 0.1634], dtype=torch.float64,\n",
       "       grad_fn=<SoftmaxBackward0>)"
      ]
     },
     "execution_count": 7,
     "metadata": {},
     "output_type": "execute_result"
    }
   ],
   "source": [
    "F.softmax(model(ids), dim=-1)"
   ]
  },
  {
   "cell_type": "markdown",
   "metadata": {
    "id": "_8sj3v0qWOK1"
   },
   "source": [
    "## 82 確率的勾配降下法による学習"
   ]
  },
  {
   "cell_type": "code",
   "execution_count": 8,
   "metadata": {
    "id": "NSqctKZbsET5"
   },
   "outputs": [],
   "source": [
    "from torch.nn.utils.rnn import pad_sequence\n",
    "\n",
    "def titles_to_x(titles):\n",
    "    tensors = [torch.from_numpy(x) for x in np.vectorize(title_to_ids, otypes=[list])(titles).tolist()]\n",
    "    return tensors\n",
    "\n",
    "x_train = titles_to_x(train.title)\n",
    "x_valid = titles_to_x(valid.title)\n",
    "x_test = titles_to_x(test.title)"
   ]
  },
  {
   "cell_type": "code",
   "execution_count": 4,
   "metadata": {
    "id": "NSqctKZbsET5"
   },
   "outputs": [],
   "source": [
    "category_to_number = np.vectorize({'b':0, 't':1, 'e':2, 'm':3}.get)\n",
    "\n",
    "y_train = category_to_number(train['category'])\n",
    "y_valid = category_to_number(valid['category'])\n",
    "y_test = category_to_number(test['category'])\n",
    "\n",
    "y_train = torch.from_numpy(y_train)\n",
    "y_valid = torch.from_numpy(y_valid)\n",
    "y_test = torch.from_numpy(y_test)"
   ]
  },
  {
   "cell_type": "code",
   "execution_count": 14,
   "metadata": {
    "tags": []
   },
   "outputs": [],
   "source": [
    "import matplotlib.pyplot as plt\n",
    "\n",
    "class Evaluator:\n",
    "    \n",
    "    def __init__(self):\n",
    "        self.losses_train = []\n",
    "        self.losses_valid = []\n",
    "        self.accs_train = []\n",
    "        self.accs_valid = []\n",
    "        \n",
    "    def evaluate(self, model, loss, data):       \n",
    "        losses = 0\n",
    "        acc = 0\n",
    "        \n",
    "        for x, y in data:\n",
    "            y_hat = model(x)\n",
    "            losses += loss(y_hat, y).item()\n",
    "            if torch.argmax(y_hat, dim=-1) == y:\n",
    "                acc += 1\n",
    "                \n",
    "        return losses, acc\n",
    "    \n",
    "    def append(self, model, loss):       \n",
    "        loss_train, acc_train = self.evaluate(model, loss, zip(x_train, y_train))\n",
    "        self.losses_train.append(loss_train / len(x_train))\n",
    "        self.accs_train.append(acc_train / len(x_train))\n",
    "                                               \n",
    "        loss_valid, acc_valid = self.evaluate(model, loss, zip(x_valid, y_valid))\n",
    "        self.losses_valid.append(loss_valid / len(x_valid))\n",
    "        self.accs_valid.append(acc_valid / len(x_valid)) \n",
    "        \n",
    "    def plot(self):\n",
    "        ax1 = plt.subplot(211)\n",
    "        plt.plot(range(len(self.losses_train)), self.losses_train, label='train')\n",
    "        plt.plot(range(len(self.losses_valid)), self.losses_valid, label='valid')\n",
    "        plt.legend()\n",
    "        plt.ylabel('loss')\n",
    "        plt.tick_params('x', labelbottom=False)\n",
    "\n",
    "        ax2 = plt.subplot(212, sharex=ax1)\n",
    "        plt.plot(range(len(self.accs_train)), self.accs_train, label='train')\n",
    "        plt.plot(range(len(self.accs_valid)), self.accs_valid, label='valid')\n",
    "        plt.legend()\n",
    "        plt.xlabel('epoch')\n",
    "        plt.ylabel('accuracy')\n",
    "\n",
    "        plt.show()"
   ]
  },
  {
   "cell_type": "code",
   "execution_count": 11,
   "metadata": {
    "tags": []
   },
   "outputs": [],
   "source": [
    "from tqdm import tqdm\n",
    "\n",
    "torch.manual_seed(42)\n",
    "model = Net()\n",
    "\n",
    "optimizer = torch.optim.SGD(model.parameters(), lr=0.001)\n",
    "loss = nn.CrossEntropyLoss(reduction='mean')\n",
    "evaluator = Evaluator()\n",
    "n_epoch = 10"
   ]
  },
  {
   "cell_type": "code",
   "execution_count": 15,
   "metadata": {
    "tags": []
   },
   "outputs": [
    {
     "data": {
      "text/plain": [
       "Net(\n",
       "  (fc0): Embedding(9573, 300)\n",
       "  (fc1): RNN(300, 50, batch_first=True)\n",
       "  (fc2): Linear(in_features=50, out_features=4, bias=True)\n",
       ")"
      ]
     },
     "execution_count": 15,
     "metadata": {},
     "output_type": "execute_result"
    }
   ],
   "source": [
    "device = torch.device(\"cuda\" if torch.cuda.is_available() else \"cpu\")\n",
    "\n",
    "y_train.to(device)\n",
    "y_valid.to(device)\n",
    "y_test.to(device)\n",
    "model.to(device)"
   ]
  },
  {
   "cell_type": "code",
   "execution_count": 16,
   "metadata": {
    "tags": []
   },
   "outputs": [
    {
     "name": "stderr",
     "output_type": "stream",
     "text": [
      "  0%|                                                    | 0/10 [00:00<?, ?it/s]"
     ]
    },
    {
     "name": "stdout",
     "output_type": "stream",
     "text": [
      "12128.224611518313\n"
     ]
    },
    {
     "name": "stderr",
     "output_type": "stream",
     "text": [
      " 10%|████▍                                       | 1/10 [00:35<05:19, 35.54s/it]"
     ]
    },
    {
     "name": "stdout",
     "output_type": "stream",
     "text": [
      "11007.448002053734\n"
     ]
    },
    {
     "name": "stderr",
     "output_type": "stream",
     "text": [
      " 20%|████████▊                                   | 2/10 [01:10<04:43, 35.38s/it]"
     ]
    },
    {
     "name": "stdout",
     "output_type": "stream",
     "text": [
      "10098.618233071162\n"
     ]
    },
    {
     "name": "stderr",
     "output_type": "stream",
     "text": [
      " 30%|█████████████▏                              | 3/10 [01:46<04:09, 35.69s/it]"
     ]
    },
    {
     "name": "stdout",
     "output_type": "stream",
     "text": [
      "8835.449280208908\n"
     ]
    },
    {
     "name": "stderr",
     "output_type": "stream",
     "text": [
      " 40%|█████████████████▌                          | 4/10 [02:23<03:36, 36.13s/it]"
     ]
    },
    {
     "name": "stdout",
     "output_type": "stream",
     "text": [
      "7717.443767743471\n"
     ]
    },
    {
     "name": "stderr",
     "output_type": "stream",
     "text": [
      " 50%|██████████████████████                      | 5/10 [02:58<02:59, 35.84s/it]"
     ]
    },
    {
     "name": "stdout",
     "output_type": "stream",
     "text": [
      "6805.413249137066\n"
     ]
    },
    {
     "name": "stderr",
     "output_type": "stream",
     "text": [
      " 60%|██████████████████████████▍                 | 6/10 [03:35<02:23, 36.00s/it]"
     ]
    },
    {
     "name": "stdout",
     "output_type": "stream",
     "text": [
      "6024.338499118836\n"
     ]
    },
    {
     "name": "stderr",
     "output_type": "stream",
     "text": [
      " 70%|██████████████████████████████▊             | 7/10 [04:13<01:49, 36.66s/it]"
     ]
    },
    {
     "name": "stdout",
     "output_type": "stream",
     "text": [
      "5320.025307676958\n"
     ]
    },
    {
     "name": "stderr",
     "output_type": "stream",
     "text": [
      " 80%|███████████████████████████████████▏        | 8/10 [04:50<01:13, 36.93s/it]"
     ]
    },
    {
     "name": "stdout",
     "output_type": "stream",
     "text": [
      "4743.3237346170245\n"
     ]
    },
    {
     "name": "stderr",
     "output_type": "stream",
     "text": [
      " 90%|███████████████████████████████████████▌    | 9/10 [05:28<00:37, 37.11s/it]"
     ]
    },
    {
     "name": "stdout",
     "output_type": "stream",
     "text": [
      "4415.326443721497\n"
     ]
    },
    {
     "name": "stderr",
     "output_type": "stream",
     "text": [
      "100%|███████████████████████████████████████████| 10/10 [06:07<00:00, 36.75s/it]\n"
     ]
    }
   ],
   "source": [
    "evaluator.append(model, loss)\n",
    "\n",
    "for i in tqdm(range(n_epoch)):\n",
    "    \n",
    "    overall_loss = 0\n",
    "    \n",
    "    for x, y in zip(x_train, y_train):\n",
    "        x.to(device)\n",
    "        optimizer.zero_grad()\n",
    "        y_hat = model(x)\n",
    "        output = loss(y_hat, y)\n",
    "        output.backward()\n",
    "        optimizer.step()\n",
    "        \n",
    "        overall_loss += output.item()\n",
    "        \n",
    "    print(overall_loss)\n",
    "        \n",
    "    evaluator.append(model, loss)"
   ]
  },
  {
   "cell_type": "code",
   "execution_count": 17,
   "metadata": {
    "tags": []
   },
   "outputs": [
    {
     "data": {
      "image/png": "[encoded data removed]",
      "text/plain": [
       "<Figure size 640x480 with 2 Axes>"
      ]
     },
     "metadata": {},
     "output_type": "display_data"
    }
   ],
   "source": [
    "evaluator.plot()"
   ]
  },
  {
   "cell_type": "markdown",
   "metadata": {
    "id": "uJPaSr31WRkn"
   },
   "source": [
    "## 83 ミニバッチ化・GPU上での学習"
   ]
  },
  {
   "cell_type": "code",
   "execution_count": 159,
   "metadata": {
    "tags": []
   },
   "outputs": [],
   "source": [
    "class Net(nn.Module):\n",
    "    def __init__(self):\n",
    "        super(Net, self).__init__()\n",
    "        self.fc0 = nn.Embedding(n_words, 300, dtype=torch.float64, padding_idx=0)\n",
    "        self.fc1 = nn.RNN(300, 50, dtype=torch.float64, batch_first=True)\n",
    "        self.fc2 = nn.Linear(50, 4, dtype=torch.float64)\n",
    "        \n",
    "    def forward(self, x):\n",
    "        x = self.fc0(x)\n",
    "        x = self.fc1(x)\n",
    "        x = self.fc2(x[1][0])\n",
    "        return x\n",
    "\n",
    "torch.manual_seed(42)\n",
    "model = Net()\n",
    "\n",
    "optimizer = torch.optim.SGD(model.parameters(), lr=0.001)\n",
    "loss = nn.CrossEntropyLoss(reduction='mean')\n",
    "evaluator = Evaluator()"
   ]
  },
  {
   "cell_type": "code",
   "execution_count": 160,
   "metadata": {
    "tags": []
   },
   "outputs": [],
   "source": [
    "from torch.utils.data import TensorDataset, DataLoader\n",
    "from torch.nn.utils.rnn import pad_sequence\n",
    "\n",
    "def custom_collate(data):    \n",
    "    inputs, labels = zip(*data)\n",
    "    inputs = pad_sequence(inputs, batch_first=True)\n",
    "    labels = torch.tensor(labels)\n",
    "\n",
    "    return inputs, labels\n",
    "\n",
    "loader_train = DataLoader(sorted(zip(x_train, y_train), key=lambda x:len(x[0])), batch_size=8, collate_fn=custom_collate)"
   ]
  },
  {
   "cell_type": "code",
   "execution_count": null,
   "metadata": {},
   "outputs": [],
   "source": [
    "#左側からpaddingしてみる\n",
    "\n",
    "# from torch.utils.data import TensorDataset, DataLoader\n",
    "# from torch.nn.utils.rnn import pad_sequence\n",
    "\n",
    "# x_train_padded = pad_sequence([i.flip(dims=[-1]) for i in x_train], batch_first=True).flip(dims=[-1])\n",
    "\n",
    "# dataset_train = TensorDataset(x_train_padded, y_train)\n",
    "# loader_train = DataLoader(dataset_train, batch_size=8)"
   ]
  },
  {
   "cell_type": "code",
   "execution_count": 161,
   "metadata": {
    "tags": []
   },
   "outputs": [
    {
     "name": "stderr",
     "output_type": "stream",
     "text": [
      "  0%|                                                      | 0/10 [00:00<?, ?it/s]"
     ]
    },
    {
     "name": "stdout",
     "output_type": "stream",
     "text": [
      "1687.413730440271\n"
     ]
    },
    {
     "name": "stderr",
     "output_type": "stream",
     "text": [
      " 10%|████▌                                         | 1/10 [00:06<01:01,  6.88s/it]"
     ]
    },
    {
     "name": "stdout",
     "output_type": "stream",
     "text": [
      "1571.6633236071393\n"
     ]
    },
    {
     "name": "stderr",
     "output_type": "stream",
     "text": [
      " 20%|█████████▏                                    | 2/10 [00:13<00:55,  6.88s/it]"
     ]
    },
    {
     "name": "stdout",
     "output_type": "stream",
     "text": [
      "1513.8664666321938\n"
     ]
    },
    {
     "name": "stderr",
     "output_type": "stream",
     "text": [
      " 30%|█████████████▊                                | 3/10 [00:20<00:48,  6.88s/it]"
     ]
    },
    {
     "name": "stdout",
     "output_type": "stream",
     "text": [
      "1478.9585120083473\n"
     ]
    },
    {
     "name": "stderr",
     "output_type": "stream",
     "text": [
      " 40%|██████████████████▍                           | 4/10 [00:27<00:41,  6.86s/it]"
     ]
    },
    {
     "name": "stdout",
     "output_type": "stream",
     "text": [
      "1455.2219632404292\n"
     ]
    },
    {
     "name": "stderr",
     "output_type": "stream",
     "text": [
      " 50%|███████████████████████                       | 5/10 [00:34<00:34,  6.90s/it]"
     ]
    },
    {
     "name": "stdout",
     "output_type": "stream",
     "text": [
      "1437.1948359098615\n"
     ]
    },
    {
     "name": "stderr",
     "output_type": "stream",
     "text": [
      " 60%|███████████████████████████▌                  | 6/10 [00:41<00:27,  6.89s/it]"
     ]
    },
    {
     "name": "stdout",
     "output_type": "stream",
     "text": [
      "1422.091406656533\n"
     ]
    },
    {
     "name": "stderr",
     "output_type": "stream",
     "text": [
      " 70%|████████████████████████████████▏             | 7/10 [00:48<00:20,  6.90s/it]"
     ]
    },
    {
     "name": "stdout",
     "output_type": "stream",
     "text": [
      "1408.4273819093025\n"
     ]
    },
    {
     "name": "stderr",
     "output_type": "stream",
     "text": [
      " 80%|████████████████████████████████████▊         | 8/10 [00:55<00:13,  6.90s/it]"
     ]
    },
    {
     "name": "stdout",
     "output_type": "stream",
     "text": [
      "1395.3707075267646\n"
     ]
    },
    {
     "name": "stderr",
     "output_type": "stream",
     "text": [
      " 90%|█████████████████████████████████████████▍    | 9/10 [01:02<00:06,  6.93s/it]"
     ]
    },
    {
     "name": "stdout",
     "output_type": "stream",
     "text": [
      "1382.419899981243\n"
     ]
    },
    {
     "name": "stderr",
     "output_type": "stream",
     "text": [
      "100%|█████████████████████████████████████████████| 10/10 [01:09<00:00,  6.93s/it]\n"
     ]
    }
   ],
   "source": [
    "from tqdm import tqdm\n",
    "\n",
    "n_epoch = 10\n",
    "\n",
    "evaluator.append(model, loss)\n",
    "\n",
    "for i in tqdm(range(n_epoch)):\n",
    "    \n",
    "    overall_loss = 0\n",
    "    \n",
    "    for x, y in loader_train:\n",
    "        optimizer.zero_grad()\n",
    "        y_hat = model(x)\n",
    "        output = loss(y_hat, y)\n",
    "        output.backward()\n",
    "        optimizer.step()\n",
    "        \n",
    "        overall_loss += output.item()\n",
    "        \n",
    "    print(overall_loss)\n",
    "        \n",
    "    evaluator.append(model, loss)"
   ]
  },
  {
   "cell_type": "code",
   "execution_count": 162,
   "metadata": {
    "tags": []
   },
   "outputs": [
    {
     "data": {
      "image/png": "[encoded data removed]",
      "text/plain": [
       "<Figure size 640x480 with 2 Axes>"
      ]
     },
     "metadata": {},
     "output_type": "display_data"
    }
   ],
   "source": [
    "evaluator.plot()"
   ]
  },
  {
   "cell_type": "markdown",
   "metadata": {
    "id": "iCKpxYPXWUan"
   },
   "source": [
    "## 84 単語ベクトルの導入"
   ]
  },
  {
   "cell_type": "code",
   "execution_count": 165,
   "metadata": {
    "tags": []
   },
   "outputs": [],
   "source": [
    "from pymagnitude import Magnitude\n",
    "\n",
    "vecs = Magnitude('GoogleNews-vectors-negative300.magnitude')\n",
    "\n",
    "weights = [np.zeros(300)]\n",
    "\n",
    "for word in word_list:\n",
    "    weights.append(vecs.query(word))\n",
    "\n",
    "embedding = nn.Embedding.from_pretrained(torch.DoubleTensor(np.array(weights)), padding_idx=0)"
   ]
  },
  {
   "cell_type": "code",
   "execution_count": 258,
   "metadata": {
    "tags": []
   },
   "outputs": [],
   "source": [
    "torch.manual_seed(42)\n",
    "model = Net()\n",
    "model.fc0 = embedding"
   ]
  },
  {
   "cell_type": "code",
   "execution_count": 259,
   "metadata": {
    "tags": []
   },
   "outputs": [],
   "source": [
    "#今度こそ左側からpaddingしてみるぞ！\n",
    "\n",
    "x_train_padded = pad_sequence([i.flip(dims=[-1]) for i in x_train], batch_first=True).flip(dims=[-1])\n",
    "\n",
    "dataset_train = TensorDataset(x_train_padded, y_train)\n",
    "loader_train = DataLoader(dataset_train, batch_size=8)"
   ]
  },
  {
   "cell_type": "code",
   "execution_count": 260,
   "metadata": {
    "tags": []
   },
   "outputs": [],
   "source": [
    "optimizer = torch.optim.SGD(model.parameters(), lr=0.001)\n",
    "loss = nn.CrossEntropyLoss(reduction='mean')\n",
    "evaluator = Evaluator()"
   ]
  },
  {
   "cell_type": "code",
   "execution_count": 261,
   "metadata": {
    "tags": []
   },
   "outputs": [
    {
     "name": "stderr",
     "output_type": "stream",
     "text": [
      "100%|█████████████████████████████████████████████| 100/100 [06:30<00:00,  3.91s/it]\n"
     ]
    }
   ],
   "source": [
    "from tqdm import tqdm\n",
    "\n",
    "n_epoch = 100\n",
    "\n",
    "evaluator.append(model, loss)\n",
    "\n",
    "for i in tqdm(range(n_epoch)):\n",
    "    \n",
    "    overall_loss = 0\n",
    "    \n",
    "    for x, y in loader_train:\n",
    "        optimizer.zero_grad()\n",
    "        y_hat = model(x)\n",
    "        output = loss(y_hat, y)\n",
    "        output.backward()\n",
    "        optimizer.step()\n",
    "        \n",
    "        overall_loss += output.item()\n",
    "        \n",
    "    #print(overall_loss)\n",
    "        \n",
    "    evaluator.append(model, loss)"
   ]
  },
  {
   "cell_type": "code",
   "execution_count": 262,
   "metadata": {
    "tags": []
   },
   "outputs": [
    {
     "data": {
      "image/png": "[encoded data removed]",
      "text/plain": [
       "<Figure size 640x480 with 2 Axes>"
      ]
     },
     "metadata": {},
     "output_type": "display_data"
    }
   ],
   "source": [
    "evaluator.plot()"
   ]
  },
  {
   "cell_type": "markdown",
   "metadata": {
    "id": "K-eM15b0WW5-"
   },
   "source": [
    "## 85 双方向RNN・多層化"
   ]
  },
  {
   "cell_type": "code",
   "execution_count": 253,
   "metadata": {
    "tags": []
   },
   "outputs": [],
   "source": [
    "class SuperNet(nn.Module):\n",
    "    def __init__(self):\n",
    "        super(SuperNet, self).__init__()\n",
    "        self.fc0 = nn.Embedding(n_words, 300, dtype=torch.float64, padding_idx=0)\n",
    "        self.fc1 = nn.RNN(300, 50, dtype=torch.float64, batch_first=True, num_layers=2, bidirectional=True)\n",
    "        self.fc2 = nn.Linear(100, 4, dtype=torch.float64)\n",
    "        \n",
    "    def forward(self, x):\n",
    "        x = self.fc0(x)\n",
    "        x = self.fc1(x)\n",
    "        x = self.fc2(x[0].select(-2, -1))\n",
    "        return x"
   ]
  },
  {
   "cell_type": "code",
   "execution_count": 254,
   "metadata": {
    "tags": []
   },
   "outputs": [],
   "source": [
    "torch.manual_seed(42)\n",
    "model = SuperNet()\n",
    "model.fc0 = embedding\n",
    "\n",
    "optimizer = torch.optim.SGD(model.parameters(), lr=0.001)\n",
    "loss = nn.CrossEntropyLoss(reduction='mean')\n",
    "evaluator = Evaluator()"
   ]
  },
  {
   "cell_type": "code",
   "execution_count": 255,
   "metadata": {
    "tags": []
   },
   "outputs": [
    {
     "name": "stderr",
     "output_type": "stream",
     "text": [
      "  0%|                                                      | 0/10 [00:00<?, ?it/s]"
     ]
    },
    {
     "name": "stdout",
     "output_type": "stream",
     "text": [
      "1605.2871487047612\n"
     ]
    },
    {
     "name": "stderr",
     "output_type": "stream",
     "text": [
      " 10%|████▌                                         | 1/10 [00:12<01:54, 12.71s/it]"
     ]
    },
    {
     "name": "stdout",
     "output_type": "stream",
     "text": [
      "1528.455752837405\n"
     ]
    },
    {
     "name": "stderr",
     "output_type": "stream",
     "text": [
      " 20%|█████████▏                                    | 2/10 [00:25<01:41, 12.72s/it]"
     ]
    },
    {
     "name": "stdout",
     "output_type": "stream",
     "text": [
      "1510.6128863747458\n"
     ]
    },
    {
     "name": "stderr",
     "output_type": "stream",
     "text": [
      " 30%|█████████████▊                                | 3/10 [00:38<01:29, 12.73s/it]"
     ]
    },
    {
     "name": "stdout",
     "output_type": "stream",
     "text": [
      "1491.1384422077847\n"
     ]
    },
    {
     "name": "stderr",
     "output_type": "stream",
     "text": [
      " 40%|██████████████████▍                           | 4/10 [00:50<01:16, 12.71s/it]"
     ]
    },
    {
     "name": "stdout",
     "output_type": "stream",
     "text": [
      "1467.9074980143694\n"
     ]
    },
    {
     "name": "stderr",
     "output_type": "stream",
     "text": [
      " 50%|███████████████████████                       | 5/10 [01:03<01:03, 12.68s/it]"
     ]
    },
    {
     "name": "stdout",
     "output_type": "stream",
     "text": [
      "1437.8321684453801\n"
     ]
    },
    {
     "name": "stderr",
     "output_type": "stream",
     "text": [
      " 60%|███████████████████████████▌                  | 6/10 [01:16<00:50, 12.68s/it]"
     ]
    },
    {
     "name": "stdout",
     "output_type": "stream",
     "text": [
      "1380.8902712847205\n"
     ]
    },
    {
     "name": "stderr",
     "output_type": "stream",
     "text": [
      " 70%|████████████████████████████████▏             | 7/10 [01:28<00:38, 12.68s/it]"
     ]
    },
    {
     "name": "stdout",
     "output_type": "stream",
     "text": [
      "1110.8659038638646\n"
     ]
    },
    {
     "name": "stderr",
     "output_type": "stream",
     "text": [
      " 80%|████████████████████████████████████▊         | 8/10 [01:41<00:25, 12.70s/it]"
     ]
    },
    {
     "name": "stdout",
     "output_type": "stream",
     "text": [
      "940.7734698827612\n"
     ]
    },
    {
     "name": "stderr",
     "output_type": "stream",
     "text": [
      " 90%|█████████████████████████████████████████▍    | 9/10 [01:54<00:12, 12.74s/it]"
     ]
    },
    {
     "name": "stdout",
     "output_type": "stream",
     "text": [
      "875.3549937260128\n"
     ]
    },
    {
     "name": "stderr",
     "output_type": "stream",
     "text": [
      "100%|█████████████████████████████████████████████| 10/10 [02:07<00:00, 12.75s/it]\n"
     ]
    }
   ],
   "source": [
    "from tqdm import tqdm\n",
    "\n",
    "n_epoch = 10\n",
    "\n",
    "evaluator.append(model, loss)\n",
    "\n",
    "for i in tqdm(range(n_epoch)):\n",
    "    \n",
    "    overall_loss = 0\n",
    "    \n",
    "    for x, y in loader_train:\n",
    "        optimizer.zero_grad()\n",
    "        y_hat = model(x)\n",
    "        output = loss(y_hat, y)\n",
    "        output.backward()\n",
    "        optimizer.step()\n",
    "        \n",
    "        overall_loss += output.item()\n",
    "        \n",
    "    print(overall_loss)\n",
    "        \n",
    "    evaluator.append(model, loss)"
   ]
  },
  {
   "cell_type": "code",
   "execution_count": 256,
   "metadata": {
    "tags": []
   },
   "outputs": [
    {
     "data": {
      "image/png": "[encoded data removed]",
      "text/plain": [
       "<Figure size 640x480 with 2 Axes>"
      ]
     },
     "metadata": {},
     "output_type": "display_data"
    }
   ],
   "source": [
    "evaluator.plot()"
   ]
  },
  {
   "cell_type": "markdown",
   "metadata": {
    "id": "TXriUvevWZxG"
   },
   "source": [
    "## 86 畳み込みニューラルネットワーク (CNN)"
   ]
  },
  {
   "cell_type": "code",
   "execution_count": 342,
   "metadata": {
    "tags": []
   },
   "outputs": [
    {
     "data": {
      "text/plain": [
       "tensor([0.2525, 0.4512, 0.1592, 0.1370], dtype=torch.float64,\n",
       "       grad_fn=<SoftmaxBackward0>)"
      ]
     },
     "execution_count": 342,
     "metadata": {},
     "output_type": "execute_result"
    }
   ],
   "source": [
    "class CNN(nn.Module):\n",
    "    def __init__(self):\n",
    "        super(CNN, self).__init__()\n",
    "        self.emb = nn.Embedding(n_words, 300, dtype=torch.float64, padding_idx=0)\n",
    "        self.conv = nn.Conv2d(in_channels=1, out_channels=50, kernel_size=(3, 300), stride=1, padding=(1, 0), dtype=torch.float64)\n",
    "        self.linear = nn.Linear(50, 4, dtype=torch.float64)\n",
    "        \n",
    "    def forward(self, x):\n",
    "        x = self.emb(x)\n",
    "        x = self.conv(x.unsqueeze(0))\n",
    "        x = F.relu(x.squeeze(2))\n",
    "        x = F.max_pool1d(x, x.shape[-1]).squeeze(1)\n",
    "        x = self.linear(x)\n",
    "        return x\n",
    "\n",
    "torch.manual_seed(42)\n",
    "model = CNN()\n",
    "\n",
    "F.softmax(model(x_train[0]), dim=-1)"
   ]
  },
  {
   "cell_type": "markdown",
   "metadata": {
    "id": "4ttZhF9HWcpu"
   },
   "source": [
    "## 87 確率的勾配降下法によるCNNの学習"
   ]
  },
  {
   "cell_type": "code",
   "execution_count": 347,
   "metadata": {
    "tags": []
   },
   "outputs": [],
   "source": [
    "from tqdm import tqdm\n",
    "\n",
    "torch.manual_seed(42)\n",
    "model = CNN()\n",
    "model.emb = embedding\n",
    "\n",
    "optimizer = torch.optim.SGD(model.parameters(), lr=0.001)\n",
    "loss = nn.CrossEntropyLoss(reduction='mean')\n",
    "evaluator = Evaluator()\n",
    "n_epoch = 10"
   ]
  },
  {
   "cell_type": "code",
   "execution_count": 348,
   "metadata": {
    "tags": []
   },
   "outputs": [
    {
     "name": "stderr",
     "output_type": "stream",
     "text": [
      "  0%|                                                   | 0/10 [00:00<?, ?it/s]"
     ]
    },
    {
     "name": "stdout",
     "output_type": "stream",
     "text": [
      "12507.5998390075\n"
     ]
    },
    {
     "name": "stderr",
     "output_type": "stream",
     "text": [
      " 10%|████▎                                      | 1/10 [00:05<00:50,  5.56s/it]"
     ]
    },
    {
     "name": "stdout",
     "output_type": "stream",
     "text": [
      "10553.88887276625\n"
     ]
    },
    {
     "name": "stderr",
     "output_type": "stream",
     "text": [
      " 20%|████████▌                                  | 2/10 [00:11<00:44,  5.57s/it]"
     ]
    },
    {
     "name": "stdout",
     "output_type": "stream",
     "text": [
      "8182.757735211457\n"
     ]
    },
    {
     "name": "stderr",
     "output_type": "stream",
     "text": [
      " 30%|████████████▉                              | 3/10 [00:16<00:39,  5.62s/it]"
     ]
    },
    {
     "name": "stdout",
     "output_type": "stream",
     "text": [
      "7039.440568744437\n"
     ]
    },
    {
     "name": "stderr",
     "output_type": "stream",
     "text": [
      " 40%|█████████████████▏                         | 4/10 [00:22<00:33,  5.60s/it]"
     ]
    },
    {
     "name": "stdout",
     "output_type": "stream",
     "text": [
      "6428.144133211857\n"
     ]
    },
    {
     "name": "stderr",
     "output_type": "stream",
     "text": [
      " 50%|█████████████████████▌                     | 5/10 [00:27<00:27,  5.58s/it]"
     ]
    },
    {
     "name": "stdout",
     "output_type": "stream",
     "text": [
      "5990.005475490396\n"
     ]
    },
    {
     "name": "stderr",
     "output_type": "stream",
     "text": [
      " 60%|█████████████████████████▊                 | 6/10 [00:33<00:22,  5.56s/it]"
     ]
    },
    {
     "name": "stdout",
     "output_type": "stream",
     "text": [
      "5632.0113353172765\n"
     ]
    },
    {
     "name": "stderr",
     "output_type": "stream",
     "text": [
      " 70%|██████████████████████████████             | 7/10 [00:38<00:16,  5.55s/it]"
     ]
    },
    {
     "name": "stdout",
     "output_type": "stream",
     "text": [
      "5316.884551289083\n"
     ]
    },
    {
     "name": "stderr",
     "output_type": "stream",
     "text": [
      " 80%|██████████████████████████████████▍        | 8/10 [00:44<00:11,  5.55s/it]"
     ]
    },
    {
     "name": "stdout",
     "output_type": "stream",
     "text": [
      "5025.8484252253065\n"
     ]
    },
    {
     "name": "stderr",
     "output_type": "stream",
     "text": [
      " 90%|██████████████████████████████████████▋    | 9/10 [00:50<00:05,  5.58s/it]"
     ]
    },
    {
     "name": "stdout",
     "output_type": "stream",
     "text": [
      "4749.587799262155\n"
     ]
    },
    {
     "name": "stderr",
     "output_type": "stream",
     "text": [
      "100%|██████████████████████████████████████████| 10/10 [00:55<00:00,  5.58s/it]\n"
     ]
    }
   ],
   "source": [
    "evaluator.append(model, loss)\n",
    "\n",
    "for i in tqdm(range(n_epoch)):\n",
    "    \n",
    "    overall_loss = 0\n",
    "    \n",
    "    for x, y in zip(x_train, y_train):\n",
    "        optimizer.zero_grad()\n",
    "        y_hat = model(x)\n",
    "        output = loss(y_hat, y)\n",
    "        output.backward()\n",
    "        optimizer.step()\n",
    "        \n",
    "        overall_loss += output.item()\n",
    "        \n",
    "    print(overall_loss)\n",
    "        \n",
    "    evaluator.append(model, loss)"
   ]
  },
  {
   "cell_type": "code",
   "execution_count": 349,
   "metadata": {
    "tags": []
   },
   "outputs": [
    {
     "data": {
      "image/png": "[encoded data removed]",
      "text/plain": [
       "<Figure size 640x480 with 2 Axes>"
      ]
     },
     "metadata": {},
     "output_type": "display_data"
    }
   ],
   "source": [
    "evaluator.plot()"
   ]
  },
  {
   "cell_type": "markdown",
   "metadata": {
    "id": "jbHDdaUcWgXV"
   },
   "source": [
    "## 88 パラメータチューニング"
   ]
  },
  {
   "cell_type": "code",
   "execution_count": 352,
   "metadata": {
    "tags": []
   },
   "outputs": [
    {
     "name": "stderr",
     "output_type": "stream",
     "text": [
      "100%|████████████████████████████████████████| 100/100 [06:25<00:00,  3.86s/it]\n"
     ]
    }
   ],
   "source": [
    "#based on 84\n",
    "\n",
    "from torch.optim.lr_scheduler import MultiStepLR\n",
    "\n",
    "torch.manual_seed(42)\n",
    "model = Net()\n",
    "model.fc0 = embedding\n",
    "\n",
    "x_train_padded = pad_sequence([i.flip(dims=[-1]) for i in x_train], batch_first=True).flip(dims=[-1])\n",
    "dataset_train = TensorDataset(x_train_padded, y_train)\n",
    "loader_train = DataLoader(dataset_train, batch_size=8)\n",
    "\n",
    "optimizer = torch.optim.SGD(model.parameters(), lr=0.001)\n",
    "scheduler = MultiStepLR(optimizer, milestones=[50], gamma=0.3) #scheduler added\n",
    "\n",
    "loss = nn.CrossEntropyLoss(reduction='mean')\n",
    "evaluator = Evaluator()\n",
    "\n",
    "n_epoch = 100 #n_epoch increased to 100\n",
    "\n",
    "evaluator.append(model, loss)\n",
    "\n",
    "for i in tqdm(range(n_epoch)):\n",
    "        \n",
    "    for x, y in loader_train:\n",
    "        optimizer.zero_grad()\n",
    "        y_hat = model(x)\n",
    "        output = loss(y_hat, y)\n",
    "        output.backward()\n",
    "        optimizer.step()\n",
    "        \n",
    "    evaluator.append(model, loss)    \n",
    "    scheduler.step()"
   ]
  },
  {
   "cell_type": "code",
   "execution_count": 353,
   "metadata": {
    "tags": []
   },
   "outputs": [
    {
     "data": {
      "image/png": "[encoded data removed]",
      "text/plain": [
       "<Figure size 640x480 with 2 Axes>"
      ]
     },
     "metadata": {},
     "output_type": "display_data"
    }
   ],
   "source": [
    "evaluator.plot()"
   ]
  },
  {
   "cell_type": "markdown",
   "metadata": {
    "id": "PN0A_9dVWjoo"
   },
   "source": [
    "## 89 事前学習済み言語モデルからの転移学習"
   ]
  },
  {
   "cell_type": "code",
   "execution_count": 6,
   "metadata": {
    "tags": []
   },
   "outputs": [],
   "source": [
    "from transformers import BertModel, BertTokenizer\n",
    "import torch\n",
    "from torch import nn"
   ]
  },
  {
   "cell_type": "code",
   "execution_count": 10,
   "metadata": {
    "tags": []
   },
   "outputs": [],
   "source": [
    "#prepare data\n",
    "\n",
    "tokenizer = BertTokenizer.from_pretrained('bert-base-uncased')\n",
    "\n",
    "padded_sequences_train = tokenizer(train['title'].tolist(), padding=True)\n",
    "padded_sequences_valid = tokenizer(valid['title'].tolist(), padding=True)\n",
    "\n",
    "ids_train = torch.LongTensor(padded_sequences_train['input_ids'])\n",
    "masks_train = torch.LongTensor(padded_sequences_train['attention_mask'])\n",
    "\n",
    "ids_valid = torch.LongTensor(padded_sequences_valid['input_ids'])\n",
    "masks_valid = torch.LongTensor(padded_sequences_valid['attention_mask'])\n",
    "\n",
    "from torch.utils.data import TensorDataset, DataLoader\n",
    "\n",
    "dataset_train = TensorDataset(ids_train, masks_train, y_train)\n",
    "loader_train = DataLoader(dataset_train, batch_size=32)\n",
    "\n",
    "dataset_valid = TensorDataset(ids_valid, masks_valid, y_valid)\n",
    "loader_valid = DataLoader(dataset_valid, batch_size=32)"
   ]
  },
  {
   "cell_type": "code",
   "execution_count": 93,
   "metadata": {
    "tags": []
   },
   "outputs": [
    {
     "name": "stderr",
     "output_type": "stream",
     "text": [
      "Some weights of the model checkpoint at bert-base-uncased were not used when initializing BertModel: ['cls.predictions.transform.dense.bias', 'cls.predictions.transform.LayerNorm.bias', 'cls.seq_relationship.bias', 'cls.predictions.bias', 'cls.predictions.transform.LayerNorm.weight', 'cls.seq_relationship.weight', 'cls.predictions.transform.dense.weight']\n",
      "- This IS expected if you are initializing BertModel from the checkpoint of a model trained on another task or with another architecture (e.g. initializing a BertForSequenceClassification model from a BertForPreTraining model).\n",
      "- This IS NOT expected if you are initializing BertModel from the checkpoint of a model that you expect to be exactly identical (initializing a BertForSequenceClassification model from a BertForSequenceClassification model).\n"
     ]
    }
   ],
   "source": [
    "#define model\n",
    "\n",
    "class BertNet(nn.Module):\n",
    "    def __init__(self):\n",
    "        super(BertNet, self).__init__()\n",
    "        self.bert = BertModel.from_pretrained('bert-base-uncased')\n",
    "        self.linear = nn.Linear(768, 4)\n",
    "        \n",
    "    def forward(self, ids, masks):\n",
    "        _, out = self.bert(ids, attention_mask=masks, return_dict=False)\n",
    "        out = self.linear(out)\n",
    "        return out\n",
    "\n",
    "torch.manual_seed(42)\n",
    "model = BertNet()"
   ]
  },
  {
   "cell_type": "code",
   "execution_count": 94,
   "metadata": {
    "tags": []
   },
   "outputs": [],
   "source": [
    "#define evaluator for evaluation & graphing\n",
    "\n",
    "from tqdm import tqdm\n",
    "\n",
    "class BertEvaluator(Evaluator):\n",
    "            \n",
    "    def evaluate(self, model, loss, loader):       \n",
    "        losses = 0\n",
    "        acc = 0\n",
    "        \n",
    "        for ids, masks, y in tqdm(loader):           \n",
    "            y_hat = model(ids, masks)           \n",
    "            losses += loss(y_hat, y).item()           \n",
    "            acc += (torch.argmax(y_hat, dim=-1) == y).numpy().sum()\n",
    "                \n",
    "        return losses, acc\n",
    "    \n",
    "    def append(self, model, loss):       \n",
    "        loss_train, acc_train = self.evaluate(model, loss, loader_train)\n",
    "        self.losses_train.append(loss_train / len(y_train))\n",
    "        self.accs_train.append(acc_train / len(y_train))\n",
    "                                               \n",
    "        loss_valid, acc_valid = self.evaluate(model, loss, loader_valid)\n",
    "        self.losses_valid.append(loss_valid / len(y_valid))\n",
    "        self.accs_valid.append(acc_valid / len(y_valid)) "
   ]
  },
  {
   "cell_type": "code",
   "execution_count": 95,
   "metadata": {
    "tags": []
   },
   "outputs": [
    {
     "name": "stderr",
     "output_type": "stream",
     "text": [
      "100%|████████████████████████████████████████| 334/334 [03:16<00:00,  1.70it/s]\n",
      "100%|██████████████████████████████████████████| 42/42 [00:20<00:00,  2.00it/s]\n",
      "100%|████████████████████████████████████████| 334/334 [08:29<00:00,  1.53s/it]\n",
      "100%|████████████████████████████████████████| 334/334 [03:28<00:00,  1.60it/s]\n",
      "100%|██████████████████████████████████████████| 42/42 [00:21<00:00,  2.00it/s]\n",
      "100%|████████████████████████████████████████| 334/334 [08:48<00:00,  1.58s/it]\n",
      "100%|████████████████████████████████████████| 334/334 [03:11<00:00,  1.75it/s]\n",
      "100%|██████████████████████████████████████████| 42/42 [00:17<00:00,  2.33it/s]\n",
      "100%|████████████████████████████████████████| 334/334 [07:42<00:00,  1.38s/it]\n",
      "100%|████████████████████████████████████████| 334/334 [03:01<00:00,  1.84it/s]\n",
      "100%|██████████████████████████████████████████| 42/42 [00:17<00:00,  2.36it/s]\n",
      "100%|████████████████████████████████████████| 334/334 [07:36<00:00,  1.37s/it]\n",
      "100%|████████████████████████████████████████| 334/334 [02:57<00:00,  1.89it/s]\n",
      "100%|██████████████████████████████████████████| 42/42 [00:17<00:00,  2.39it/s]\n",
      "100%|████████████████████████████████████████| 334/334 [07:36<00:00,  1.37s/it]\n",
      "100%|████████████████████████████████████████| 334/334 [02:58<00:00,  1.87it/s]\n",
      "100%|██████████████████████████████████████████| 42/42 [00:18<00:00,  2.32it/s]\n"
     ]
    }
   ],
   "source": [
    "#train & evaluate\n",
    "\n",
    "from torch.optim.lr_scheduler import ExponentialLR\n",
    "\n",
    "optimizer = torch.optim.SGD(model.parameters(), lr=0.001)\n",
    "#scheduler = ExponentialLR(optimizer, gamma=0.5)\n",
    "\n",
    "loss = nn.CrossEntropyLoss(reduction='mean')\n",
    "loss_eval = nn.CrossEntropyLoss(reduction='sum')\n",
    "evaluator = BertEvaluator()\n",
    "\n",
    "n_epoch = 5\n",
    "\n",
    "evaluator.append(model, loss_eval)\n",
    "\n",
    "for i in range(n_epoch):\n",
    "        \n",
    "    for ids, masks, y in tqdm(loader_train):\n",
    "        optimizer.zero_grad()\n",
    "        y_hat = model(ids, masks)\n",
    "        output = loss(y_hat, y)\n",
    "        output.backward()\n",
    "        optimizer.step()\n",
    "        \n",
    "    evaluator.append(model, loss_eval)    \n",
    "    #scheduler.step()"
   ]
  },
  {
   "cell_type": "code",
   "execution_count": 96,
   "metadata": {
    "tags": []
   },
   "outputs": [
    {
     "data": {
      "image/png": "[encoded data removed]",
      "text/plain": [
       "<Figure size 640x480 with 2 Axes>"
      ]
     },
     "metadata": {},
     "output_type": "display_data"
    }
   ],
   "source": [
    "evaluator.plot()"
   ]
  },
  {
   "cell_type": "code",
   "execution_count": 97,
   "metadata": {
    "tags": []
   },
   "outputs": [
    {
     "data": {
      "text/plain": [
       "[0.3625982777985773,\n",
       " 0.8640958442530887,\n",
       " 0.9104268064395358,\n",
       " 0.9261512542119057,\n",
       " 0.9420628977910894,\n",
       " 0.953575439910146]"
      ]
     },
     "execution_count": 97,
     "metadata": {},
     "output_type": "execute_result"
    }
   ],
   "source": [
    "evaluator.accs_train"
   ]
  },
  {
   "cell_type": "code",
   "execution_count": 98,
   "metadata": {
    "tags": []
   },
   "outputs": [
    {
     "data": {
      "text/plain": [
       "[0.352059925093633,\n",
       " 0.8599250936329588,\n",
       " 0.9026217228464419,\n",
       " 0.9153558052434457,\n",
       " 0.9273408239700375,\n",
       " 0.9288389513108615]"
      ]
     },
     "execution_count": 98,
     "metadata": {},
     "output_type": "execute_result"
    }
   ],
   "source": [
    "evaluator.accs_valid"
   ]
  }
 ],
 "metadata": {
  "colab": {
   "authorship_tag": "ABX9TyOkybGLREhbYGyyZ0wW8kUp",
   "collapsed_sections": [],
   "name": "chapter9.ipynb",
   "provenance": []
  },
  "kernelspec": {
   "display_name": "Python 3 (ipykernel)",
   "language": "python",
   "name": "python3"
  },
  "language_info": {
   "codemirror_mode": {
    "name": "ipython",
    "version": 3
   },
   "file_extension": ".py",
   "mimetype": "text/x-python",
   "name": "python",
   "nbconvert_exporter": "python",
   "pygments_lexer": "ipython3",
   "version": "3.9.13"
  }
 },
 "nbformat": 4,
 "nbformat_minor": 4
}
