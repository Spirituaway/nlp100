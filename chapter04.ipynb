{
 "cells": [
  {
   "cell_type": "markdown",
   "id": "adb9bc49-11cd-4d4a-9679-11ca3ca8753d",
   "metadata": {},
   "source": [
    "# 30. 形態素解析結果の読み込み\n",
    "形態素解析結果（neko.txt.mecab）を読み込むプログラムを実装せよ．ただし，各形態素は表層形（surface），基本形（base），品詞（pos），品詞細分類1（pos1）をキーとするマッピング型に格納し，1文を形態素（マッピング型）のリストとして表現せよ．第4章の残りの問題では，ここで作ったプログラムを活用せよ．"
   ]
  },
  {
   "cell_type": "code",
   "execution_count": 1,
   "id": "cb42319a-6680-4af2-9e4e-b90a41484a72",
   "metadata": {},
   "outputs": [],
   "source": [
    "morphs = []\n",
    "sentences = []\n",
    "\n",
    "with open('neko.txt.mecab', encoding='utf-8') as f:\n",
    "    for line in f:\n",
    "        if line != 'EOS\\n':\n",
    "            fields = line.split('\\t')\n",
    "            attrs = fields[1].split(',')\n",
    "            morph = {'surface':fields[0], 'base':attrs[6], 'pos':attrs[0], 'pos1':attrs[1]}\n",
    "            morphs.append(morph)\n",
    "        else:\n",
    "            if len(morphs) > 0:\n",
    "                sentences.append(morphs)\n",
    "                morphs = []"
   ]
  },
  {
   "cell_type": "markdown",
   "id": "d4a1d5db-eef7-4c79-8496-7dbcb95812e4",
   "metadata": {},
   "source": [
    "# 31. 動詞\n",
    "\n",
    "動詞の表層形をすべて抽出せよ．"
   ]
  },
  {
   "cell_type": "code",
   "execution_count": 3,
   "id": "ba8cbd80-a634-4ea5-9ae9-9c9599e41b69",
   "metadata": {},
   "outputs": [],
   "source": [
    "verbs = set()\n",
    "for sentence in sentences:\n",
    "    for morph in sentence:\n",
    "        if morph['pos'] == '動詞':\n",
    "            verbs.add(morph['surface'])\n",
    "            \n",
    "#from collections import Counter\n",
    "#c = Counter(verbs)\n",
    "#dict(sorted(c.items(), key=lambda item: item[1], reverse=True))"
   ]
  },
  {
   "cell_type": "markdown",
   "id": "6bfb44db-9468-4b60-9991-7486df163a36",
   "metadata": {},
   "source": [
    "# 32. 動詞の基本形\n",
    "\n",
    "動詞の基本形をすべて抽出せよ．"
   ]
  },
  {
   "cell_type": "code",
   "execution_count": 4,
   "id": "8fe29d1d-b39a-4385-9aa6-a399f408e329",
   "metadata": {},
   "outputs": [],
   "source": [
    "verb_stems = set()\n",
    "for sentence in sentences:\n",
    "    for morph in sentence:\n",
    "        if morph['pos'] == '動詞':\n",
    "            verb_stems.add(morph['base'])"
   ]
  },
  {
   "cell_type": "markdown",
   "id": "2c2ab12e-57d3-4167-a1dc-3a1fc5f5b5b9",
   "metadata": {},
   "source": [
    "# 33. 「AのB」\n",
    "\n",
    "2つの名詞が「の」で連結されている名詞句を抽出せよ．"
   ]
  },
  {
   "cell_type": "code",
   "execution_count": 8,
   "id": "51eb4fc8-83b5-49c2-874e-92f1bc18428a",
   "metadata": {},
   "outputs": [],
   "source": [
    "a_no_bs = set()\n",
    "\n",
    "for sentence in sentences:\n",
    "    for index in range(len(sentence) - 2):\n",
    "        \n",
    "        w0 = sentence[index]\n",
    "        w1 = sentence[index + 1]\n",
    "        w2 = sentence[index + 2]\n",
    "        \n",
    "        if w0['pos'] == '名詞' and w1['surface'] == 'の' and w2['pos'] == '名詞':\n",
    "            a_no_bs.add(w0['surface'] + 'の' + w2['surface'])"
   ]
  },
  {
   "cell_type": "markdown",
   "id": "47506991-356f-498a-ba96-33a625e3a393",
   "metadata": {},
   "source": [
    "# 34. 名詞の連接\n",
    "\n",
    "名詞の連接（連続して出現する名詞）を最長一致で抽出せよ．"
   ]
  },
  {
   "cell_type": "code",
   "execution_count": 23,
   "id": "0bf8c6ba-48bc-4aba-bcbc-63f3ea3f3352",
   "metadata": {},
   "outputs": [],
   "source": [
    "noun_series = set()\n",
    "\n",
    "for sentence in sentences:\n",
    "    \n",
    "    candidate = []\n",
    "    \n",
    "    for morph in sentence:\n",
    "        \n",
    "        if morph['pos'] == '名詞':\n",
    "            candidate.append(morph['surface'])\n",
    "        else:\n",
    "            if len(candidate) > 1:\n",
    "                noun_series.add(''.join(candidate))\n",
    "            candidate = []\n",
    "            \n",
    "    if len(candidate) > 1:\n",
    "        noun_series.add(''.join(candidate))"
   ]
  },
  {
   "cell_type": "markdown",
   "id": "06807dc7-c4b9-422c-9f3c-e8ab059c0b47",
   "metadata": {},
   "source": [
    "# 35. 単語の出現頻度\n",
    "\n",
    "文章中に出現する単語とその出現頻度を求め，出現頻度の高い順に並べよ．"
   ]
  },
  {
   "cell_type": "code",
   "execution_count": 76,
   "id": "efef7292-2bcb-4fc7-9f10-a9f9c2a39ff3",
   "metadata": {},
   "outputs": [],
   "source": [
    "from collections import defaultdict \n",
    "\n",
    "word_counts = defaultdict(int)\n",
    "\n",
    "for sentence in sentences:\n",
    "    for morph in sentence:\n",
    "        if morph['pos'] != '記号':\n",
    "            base = morph['base']\n",
    "            word_counts[base] += 1\n",
    "\n",
    "word_counts = sorted(word_counts.items(), key=lambda item: item[1], reverse=True)"
   ]
  },
  {
   "cell_type": "markdown",
   "id": "e85db26c-0051-4909-8329-048a49b9a57e",
   "metadata": {},
   "source": [
    "# 36. 頻度上位10語\n",
    "\n",
    "出現頻度が高い10語とその出現頻度をグラフ（例えば棒グラフなど）で表示せよ．"
   ]
  },
  {
   "cell_type": "code",
   "execution_count": 77,
   "id": "828d1889-2704-474a-8dee-1dc47b492a00",
   "metadata": {},
   "outputs": [
    {
     "data": {
      "image/png": "[encoded data removed]",
      "text/plain": [
       "<Figure size 432x288 with 1 Axes>"
      ]
     },
     "metadata": {
      "needs_background": "light"
     },
     "output_type": "display_data"
    }
   ],
   "source": [
    "import matplotlib.pyplot as plt\n",
    "\n",
    "import matplotlib.font_manager as fm\n",
    "fprop = fm.FontProperties(fname='NotoSansJP-Regular.otf')\n",
    "\n",
    "words, counts = zip(*word_counts[:10])\n",
    "plt.bar(words, counts)\n",
    "plt.xticks(range(len(words)), words, fontproperties=fprop, fontsize=12, rotation=45)\n",
    "plt.show()"
   ]
  },
  {
   "cell_type": "markdown",
   "id": "657437ef-38e8-485f-9c5f-5348f3454aae",
   "metadata": {},
   "source": [
    "# 37. 「猫」と共起頻度の高い上位10語\n",
    "\n",
    "「猫」とよく共起する（共起頻度が高い）10語とその出現頻度をグラフ（例えば棒グラフなど）で表示せよ．"
   ]
  },
  {
   "cell_type": "code",
   "execution_count": 82,
   "id": "8cd7922c-f986-4fde-bbea-17c577c14cb2",
   "metadata": {},
   "outputs": [
    {
     "data": {
      "image/png": "[encoded data removed]",
      "text/plain": [
       "<Figure size 432x288 with 1 Axes>"
      ]
     },
     "metadata": {
      "needs_background": "light"
     },
     "output_type": "display_data"
    }
   ],
   "source": [
    "neko_counts = defaultdict(int)\n",
    "\n",
    "for sentence in sentences:\n",
    "    \n",
    "    with_neko = False \n",
    "    for morph in sentence:\n",
    "        if morph['base'] == '猫':\n",
    "            with_neko = True\n",
    "            break\n",
    "            \n",
    "    #if '猫' in [morph['surface'] for morph in sentence]:\n",
    "    if with_neko:\n",
    "        for morph in sentence:\n",
    "            if morph['pos'] != '記号':  \n",
    "                neko_counts[morph['base']] += 1\n",
    "\n",
    "del(neko_counts['猫'])\n",
    "neko_counts = sorted(neko_counts.items(), key=lambda item: item[1], reverse=True)\n",
    "\n",
    "words, counts = zip(*neko_counts[:10])\n",
    "plt.bar(words, counts)\n",
    "plt.xticks(range(len(words)), words, fontproperties=fprop, fontsize=12, rotation=45)\n",
    "plt.show()"
   ]
  },
  {
   "cell_type": "markdown",
   "id": "13c35e07-e5c4-412f-8948-782510b0380d",
   "metadata": {},
   "source": [
    "# 38. ヒストグラム\n",
    "\n",
    "単語の出現頻度のヒストグラムを描け．ただし，横軸は出現頻度を表し，1から単語の出現頻度の最大値までの線形目盛とする．縦軸はx軸で示される出現頻度となった単語の異なり数（種類数）である．"
   ]
  },
  {
   "cell_type": "code",
   "execution_count": 102,
   "id": "b8628d04-2576-45d3-9722-9713c9ded629",
   "metadata": {},
   "outputs": [
    {
     "data": {
      "image/png": "[encoded data removed]",
      "text/plain": [
       "<Figure size 432x288 with 1 Axes>"
      ]
     },
     "metadata": {
      "needs_background": "light"
     },
     "output_type": "display_data"
    }
   ],
   "source": [
    "words, counts = zip(*word_counts)\n",
    "plt.hist(counts, bins = 100)\n",
    "plt.show()"
   ]
  },
  {
   "cell_type": "markdown",
   "id": "6cb1dd32-333e-47df-a88f-cbd5ba8ae964",
   "metadata": {},
   "source": [
    "# 39. Zipfの法則\n",
    "単語の出現頻度順位を横軸，その出現頻度を縦軸として，両対数グラフをプロットせよ．"
   ]
  },
  {
   "cell_type": "code",
   "execution_count": 141,
   "id": "bab4af97-d10b-49c0-a151-55d170bb6c37",
   "metadata": {},
   "outputs": [
    {
     "data": {
      "image/png": "[encoded data removed]",
      "text/plain": [
       "<Figure size 432x288 with 1 Axes>"
      ]
     },
     "metadata": {
      "needs_background": "light"
     },
     "output_type": "display_data"
    }
   ],
   "source": [
    "ranks = np.arange(len(counts)) + 1\n",
    "plt.scatter(ranks, counts)\n",
    "plt.xscale('log')\n",
    "plt.yscale('log')\n",
    "plt.xlabel('出現頻度順位', fontproperties=fprop, fontsize=12)\n",
    "plt.ylabel('出現頻度', fontproperties=fprop, fontsize=12)\n",
    "plt.show()"
   ]
  },
  {
   "cell_type": "code",
   "execution_count": 140,
   "id": "90c35b16-368b-408e-85b1-631de7405ed3",
   "metadata": {},
   "outputs": [
    {
     "data": {
      "image/png": "[encoded data removed]",
      "text/plain": [
       "<Figure size 432x288 with 1 Axes>"
      ]
     },
     "metadata": {
      "needs_background": "light"
     },
     "output_type": "display_data"
    }
   ],
   "source": [
    "#誤解によるおまけ（その一）\n",
    "plt.hist(counts, bins = 10**np.linspace(np.log10(min(counts)), np.log10(max(counts)), num=100), log=True)\n",
    "plt.xscale('log')\n",
    "plt.xlabel('出現頻度(bin)', fontproperties=fprop, fontsize=12)\n",
    "plt.ylabel('単語種類数', fontproperties=fprop, fontsize=12)\n",
    "plt.show()"
   ]
  },
  {
   "cell_type": "code",
   "execution_count": 139,
   "id": "a7dc5f69-e440-4bf5-bf2b-a956b531dab4",
   "metadata": {},
   "outputs": [
    {
     "data": {
      "image/png": "[encoded data removed]",
      "text/plain": [
       "<Figure size 432x288 with 1 Axes>"
      ]
     },
     "metadata": {
      "needs_background": "light"
     },
     "output_type": "display_data"
    }
   ],
   "source": [
    "#誤解によるおまけ（その二）\n",
    "num = []\n",
    "freq = []\n",
    "\n",
    "for i in range(max(counts)+1):\n",
    "    if i in counts:\n",
    "        num.append(i)\n",
    "        freq.append(counts.count(i))\n",
    "\n",
    "plt.scatter(num, freq)\n",
    "plt.xscale('log')\n",
    "plt.yscale('log')\n",
    "plt.xlabel('出現頻度', fontproperties=fprop, fontsize=12)\n",
    "plt.ylabel('単語種類数', fontproperties=fprop, fontsize=12)\n",
    "plt.show()"
   ]
  }
 ],
 "metadata": {
  "kernelspec": {
   "display_name": "Python 3 (ipykernel)",
   "language": "python",
   "name": "python3"
  },
  "language_info": {
   "codemirror_mode": {
    "name": "ipython",
    "version": 3
   },
   "file_extension": ".py",
   "mimetype": "text/x-python",
   "name": "python",
   "nbconvert_exporter": "python",
   "pygments_lexer": "ipython3",
   "version": "3.10.2"
  }
 },
 "nbformat": 4,
 "nbformat_minor": 5
}
